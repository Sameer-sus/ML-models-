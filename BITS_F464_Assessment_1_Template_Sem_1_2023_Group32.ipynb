{
  "cells": [
    {
      "cell_type": "markdown",
      "metadata": {
        "id": "view-in-github",
        "colab_type": "text"
      },
      "source": [
        "<a href=\"https://colab.research.google.com/github/Sameer-sus/ML-models-/blob/main/BITS_F464_Assessment_1_Template_Sem_1_2023_Group32.ipynb\" target=\"_parent\"><img src=\"https://colab.research.google.com/assets/colab-badge.svg\" alt=\"Open In Colab\"/></a>"
      ]
    },
    {
      "cell_type": "markdown",
      "metadata": {
        "id": "Vj_r89FzT41w"
      },
      "source": [
        "##**BITS F464 - Semester 1 - MACHINE LEARNING**\n",
        "--------------------------------------------------------------------------------\n",
        "\n",
        "**ASSIGNMENT 1 - LINEAR MODELS FOR REGRESSION AND CLASSIFICATION**\n",
        "--------------------------------------------------------------------------------\n",
        "***Team number: 32***\n",
        "\n",
        "---\n",
        "<!--*In Title case, separated with commas*)-->\n",
        "***Full names of all students in the team: TANISH, NITYA, SAMEER, MEGHANA, VIVEKA\n",
        "***\n",
        "\n",
        "---\n",
        "(*Separated by commas*)\n",
        "***Id number of all students in the team:*** 2021A7PS0047H, 2021AAPS2509H, 2021A4PS2484H, 2021AAPS1528H, 2021AAPS1531H\n"
      ]
    },
    {
      "cell_type": "markdown",
      "metadata": {
        "id": "Z_duS0Zn17c3"
      },
      "source": [
        "This assignment aims to identify the differences between three sets of Machine Learning models."
      ]
    },
    {
      "cell_type": "markdown",
      "metadata": {
        "id": "yT-dTtra2h2n"
      },
      "source": [
        "# **_1. Dataset Generation_**"
      ]
    },
    {
      "cell_type": "markdown",
      "metadata": {
        "id": "2UsOVUj22wrz"
      },
      "source": [
        "You are given a sample Diabetes dataset. Using this, please develop your own dataset consisting of 500 records. You can use the given code to generate your own dataset. Submit the generated dataset as a .csv file along with your python notebook."
      ]
    },
    {
      "cell_type": "code",
      "execution_count": null,
      "metadata": {
        "colab": {
          "base_uri": "https://localhost:8080/",
          "height": 206
        },
        "id": "N8uONwSjNSc-",
        "outputId": "429dd021-f164-45ac-8564-e0414503b6cc"
      },
      "outputs": [
        {
          "output_type": "execute_result",
          "data": {
            "text/plain": [
              "   Pregnancies  Glucose  BloodPressure  SkinThickness  Insulin   BMI  \\\n",
              "0            3      141             61             29      167  18.7   \n",
              "1            0      123             56              6       68  22.1   \n",
              "2            6       94             64             37       98  40.7   \n",
              "3            8      137             42             18       89  36.1   \n",
              "4            8      123             71             10       92  39.8   \n",
              "\n",
              "   DiabetesPedigreeFunction  Age  Outcome  \n",
              "0                     0.254   33        0  \n",
              "1                     0.490   44        0  \n",
              "2                     0.620   21        0  \n",
              "3                     0.170   21        0  \n",
              "4                     0.078   39        0  "
            ],
            "text/html": [
              "\n",
              "  <div id=\"df-72fc3dd6-7422-4e03-92f9-860c41447c56\" class=\"colab-df-container\">\n",
              "    <div>\n",
              "<style scoped>\n",
              "    .dataframe tbody tr th:only-of-type {\n",
              "        vertical-align: middle;\n",
              "    }\n",
              "\n",
              "    .dataframe tbody tr th {\n",
              "        vertical-align: top;\n",
              "    }\n",
              "\n",
              "    .dataframe thead th {\n",
              "        text-align: right;\n",
              "    }\n",
              "</style>\n",
              "<table border=\"1\" class=\"dataframe\">\n",
              "  <thead>\n",
              "    <tr style=\"text-align: right;\">\n",
              "      <th></th>\n",
              "      <th>Pregnancies</th>\n",
              "      <th>Glucose</th>\n",
              "      <th>BloodPressure</th>\n",
              "      <th>SkinThickness</th>\n",
              "      <th>Insulin</th>\n",
              "      <th>BMI</th>\n",
              "      <th>DiabetesPedigreeFunction</th>\n",
              "      <th>Age</th>\n",
              "      <th>Outcome</th>\n",
              "    </tr>\n",
              "  </thead>\n",
              "  <tbody>\n",
              "    <tr>\n",
              "      <th>0</th>\n",
              "      <td>3</td>\n",
              "      <td>141</td>\n",
              "      <td>61</td>\n",
              "      <td>29</td>\n",
              "      <td>167</td>\n",
              "      <td>18.7</td>\n",
              "      <td>0.254</td>\n",
              "      <td>33</td>\n",
              "      <td>0</td>\n",
              "    </tr>\n",
              "    <tr>\n",
              "      <th>1</th>\n",
              "      <td>0</td>\n",
              "      <td>123</td>\n",
              "      <td>56</td>\n",
              "      <td>6</td>\n",
              "      <td>68</td>\n",
              "      <td>22.1</td>\n",
              "      <td>0.490</td>\n",
              "      <td>44</td>\n",
              "      <td>0</td>\n",
              "    </tr>\n",
              "    <tr>\n",
              "      <th>2</th>\n",
              "      <td>6</td>\n",
              "      <td>94</td>\n",
              "      <td>64</td>\n",
              "      <td>37</td>\n",
              "      <td>98</td>\n",
              "      <td>40.7</td>\n",
              "      <td>0.620</td>\n",
              "      <td>21</td>\n",
              "      <td>0</td>\n",
              "    </tr>\n",
              "    <tr>\n",
              "      <th>3</th>\n",
              "      <td>8</td>\n",
              "      <td>137</td>\n",
              "      <td>42</td>\n",
              "      <td>18</td>\n",
              "      <td>89</td>\n",
              "      <td>36.1</td>\n",
              "      <td>0.170</td>\n",
              "      <td>21</td>\n",
              "      <td>0</td>\n",
              "    </tr>\n",
              "    <tr>\n",
              "      <th>4</th>\n",
              "      <td>8</td>\n",
              "      <td>123</td>\n",
              "      <td>71</td>\n",
              "      <td>10</td>\n",
              "      <td>92</td>\n",
              "      <td>39.8</td>\n",
              "      <td>0.078</td>\n",
              "      <td>39</td>\n",
              "      <td>0</td>\n",
              "    </tr>\n",
              "  </tbody>\n",
              "</table>\n",
              "</div>\n",
              "    <div class=\"colab-df-buttons\">\n",
              "\n",
              "  <div class=\"colab-df-container\">\n",
              "    <button class=\"colab-df-convert\" onclick=\"convertToInteractive('df-72fc3dd6-7422-4e03-92f9-860c41447c56')\"\n",
              "            title=\"Convert this dataframe to an interactive table.\"\n",
              "            style=\"display:none;\">\n",
              "\n",
              "  <svg xmlns=\"http://www.w3.org/2000/svg\" height=\"24px\" viewBox=\"0 -960 960 960\">\n",
              "    <path d=\"M120-120v-720h720v720H120Zm60-500h600v-160H180v160Zm220 220h160v-160H400v160Zm0 220h160v-160H400v160ZM180-400h160v-160H180v160Zm440 0h160v-160H620v160ZM180-180h160v-160H180v160Zm440 0h160v-160H620v160Z\"/>\n",
              "  </svg>\n",
              "    </button>\n",
              "\n",
              "  <style>\n",
              "    .colab-df-container {\n",
              "      display:flex;\n",
              "      gap: 12px;\n",
              "    }\n",
              "\n",
              "    .colab-df-convert {\n",
              "      background-color: #E8F0FE;\n",
              "      border: none;\n",
              "      border-radius: 50%;\n",
              "      cursor: pointer;\n",
              "      display: none;\n",
              "      fill: #1967D2;\n",
              "      height: 32px;\n",
              "      padding: 0 0 0 0;\n",
              "      width: 32px;\n",
              "    }\n",
              "\n",
              "    .colab-df-convert:hover {\n",
              "      background-color: #E2EBFA;\n",
              "      box-shadow: 0px 1px 2px rgba(60, 64, 67, 0.3), 0px 1px 3px 1px rgba(60, 64, 67, 0.15);\n",
              "      fill: #174EA6;\n",
              "    }\n",
              "\n",
              "    .colab-df-buttons div {\n",
              "      margin-bottom: 4px;\n",
              "    }\n",
              "\n",
              "    [theme=dark] .colab-df-convert {\n",
              "      background-color: #3B4455;\n",
              "      fill: #D2E3FC;\n",
              "    }\n",
              "\n",
              "    [theme=dark] .colab-df-convert:hover {\n",
              "      background-color: #434B5C;\n",
              "      box-shadow: 0px 1px 3px 1px rgba(0, 0, 0, 0.15);\n",
              "      filter: drop-shadow(0px 1px 2px rgba(0, 0, 0, 0.3));\n",
              "      fill: #FFFFFF;\n",
              "    }\n",
              "  </style>\n",
              "\n",
              "    <script>\n",
              "      const buttonEl =\n",
              "        document.querySelector('#df-72fc3dd6-7422-4e03-92f9-860c41447c56 button.colab-df-convert');\n",
              "      buttonEl.style.display =\n",
              "        google.colab.kernel.accessAllowed ? 'block' : 'none';\n",
              "\n",
              "      async function convertToInteractive(key) {\n",
              "        const element = document.querySelector('#df-72fc3dd6-7422-4e03-92f9-860c41447c56');\n",
              "        const dataTable =\n",
              "          await google.colab.kernel.invokeFunction('convertToInteractive',\n",
              "                                                    [key], {});\n",
              "        if (!dataTable) return;\n",
              "\n",
              "        const docLinkHtml = 'Like what you see? Visit the ' +\n",
              "          '<a target=\"_blank\" href=https://colab.research.google.com/notebooks/data_table.ipynb>data table notebook</a>'\n",
              "          + ' to learn more about interactive tables.';\n",
              "        element.innerHTML = '';\n",
              "        dataTable['output_type'] = 'display_data';\n",
              "        await google.colab.output.renderOutput(dataTable, element);\n",
              "        const docLink = document.createElement('div');\n",
              "        docLink.innerHTML = docLinkHtml;\n",
              "        element.appendChild(docLink);\n",
              "      }\n",
              "    </script>\n",
              "  </div>\n",
              "\n",
              "\n",
              "<div id=\"df-04a60534-40e8-4b95-82a9-2068b9a5833f\">\n",
              "  <button class=\"colab-df-quickchart\" onclick=\"quickchart('df-04a60534-40e8-4b95-82a9-2068b9a5833f')\"\n",
              "            title=\"Suggest charts.\"\n",
              "            style=\"display:none;\">\n",
              "\n",
              "<svg xmlns=\"http://www.w3.org/2000/svg\" height=\"24px\"viewBox=\"0 0 24 24\"\n",
              "     width=\"24px\">\n",
              "    <g>\n",
              "        <path d=\"M19 3H5c-1.1 0-2 .9-2 2v14c0 1.1.9 2 2 2h14c1.1 0 2-.9 2-2V5c0-1.1-.9-2-2-2zM9 17H7v-7h2v7zm4 0h-2V7h2v10zm4 0h-2v-4h2v4z\"/>\n",
              "    </g>\n",
              "</svg>\n",
              "  </button>\n",
              "\n",
              "<style>\n",
              "  .colab-df-quickchart {\n",
              "      --bg-color: #E8F0FE;\n",
              "      --fill-color: #1967D2;\n",
              "      --hover-bg-color: #E2EBFA;\n",
              "      --hover-fill-color: #174EA6;\n",
              "      --disabled-fill-color: #AAA;\n",
              "      --disabled-bg-color: #DDD;\n",
              "  }\n",
              "\n",
              "  [theme=dark] .colab-df-quickchart {\n",
              "      --bg-color: #3B4455;\n",
              "      --fill-color: #D2E3FC;\n",
              "      --hover-bg-color: #434B5C;\n",
              "      --hover-fill-color: #FFFFFF;\n",
              "      --disabled-bg-color: #3B4455;\n",
              "      --disabled-fill-color: #666;\n",
              "  }\n",
              "\n",
              "  .colab-df-quickchart {\n",
              "    background-color: var(--bg-color);\n",
              "    border: none;\n",
              "    border-radius: 50%;\n",
              "    cursor: pointer;\n",
              "    display: none;\n",
              "    fill: var(--fill-color);\n",
              "    height: 32px;\n",
              "    padding: 0;\n",
              "    width: 32px;\n",
              "  }\n",
              "\n",
              "  .colab-df-quickchart:hover {\n",
              "    background-color: var(--hover-bg-color);\n",
              "    box-shadow: 0 1px 2px rgba(60, 64, 67, 0.3), 0 1px 3px 1px rgba(60, 64, 67, 0.15);\n",
              "    fill: var(--button-hover-fill-color);\n",
              "  }\n",
              "\n",
              "  .colab-df-quickchart-complete:disabled,\n",
              "  .colab-df-quickchart-complete:disabled:hover {\n",
              "    background-color: var(--disabled-bg-color);\n",
              "    fill: var(--disabled-fill-color);\n",
              "    box-shadow: none;\n",
              "  }\n",
              "\n",
              "  .colab-df-spinner {\n",
              "    border: 2px solid var(--fill-color);\n",
              "    border-color: transparent;\n",
              "    border-bottom-color: var(--fill-color);\n",
              "    animation:\n",
              "      spin 1s steps(1) infinite;\n",
              "  }\n",
              "\n",
              "  @keyframes spin {\n",
              "    0% {\n",
              "      border-color: transparent;\n",
              "      border-bottom-color: var(--fill-color);\n",
              "      border-left-color: var(--fill-color);\n",
              "    }\n",
              "    20% {\n",
              "      border-color: transparent;\n",
              "      border-left-color: var(--fill-color);\n",
              "      border-top-color: var(--fill-color);\n",
              "    }\n",
              "    30% {\n",
              "      border-color: transparent;\n",
              "      border-left-color: var(--fill-color);\n",
              "      border-top-color: var(--fill-color);\n",
              "      border-right-color: var(--fill-color);\n",
              "    }\n",
              "    40% {\n",
              "      border-color: transparent;\n",
              "      border-right-color: var(--fill-color);\n",
              "      border-top-color: var(--fill-color);\n",
              "    }\n",
              "    60% {\n",
              "      border-color: transparent;\n",
              "      border-right-color: var(--fill-color);\n",
              "    }\n",
              "    80% {\n",
              "      border-color: transparent;\n",
              "      border-right-color: var(--fill-color);\n",
              "      border-bottom-color: var(--fill-color);\n",
              "    }\n",
              "    90% {\n",
              "      border-color: transparent;\n",
              "      border-bottom-color: var(--fill-color);\n",
              "    }\n",
              "  }\n",
              "</style>\n",
              "\n",
              "  <script>\n",
              "    async function quickchart(key) {\n",
              "      const quickchartButtonEl =\n",
              "        document.querySelector('#' + key + ' button');\n",
              "      quickchartButtonEl.disabled = true;  // To prevent multiple clicks.\n",
              "      quickchartButtonEl.classList.add('colab-df-spinner');\n",
              "      try {\n",
              "        const charts = await google.colab.kernel.invokeFunction(\n",
              "            'suggestCharts', [key], {});\n",
              "      } catch (error) {\n",
              "        console.error('Error during call to suggestCharts:', error);\n",
              "      }\n",
              "      quickchartButtonEl.classList.remove('colab-df-spinner');\n",
              "      quickchartButtonEl.classList.add('colab-df-quickchart-complete');\n",
              "    }\n",
              "    (() => {\n",
              "      let quickchartButtonEl =\n",
              "        document.querySelector('#df-04a60534-40e8-4b95-82a9-2068b9a5833f button');\n",
              "      quickchartButtonEl.style.display =\n",
              "        google.colab.kernel.accessAllowed ? 'block' : 'none';\n",
              "    })();\n",
              "  </script>\n",
              "</div>\n",
              "    </div>\n",
              "  </div>\n"
            ]
          },
          "metadata": {},
          "execution_count": 1
        }
      ],
      "source": [
        "import csv\n",
        "import pandas as pd\n",
        "import numpy as np\n",
        "import matplotlib.pyplot as plt\n",
        "import random\n",
        "import time\n",
        "# from sklearn.model_selection import train_test_split\n",
        "# from sklearn.preprocessing import StandardScaler\n",
        "#data frame\n",
        "diabetes_df = pd.read_csv('diabetes_synthetic_500.csv')\n",
        "\n",
        "diabetes_df.head()"
      ]
    },
    {
      "cell_type": "markdown",
      "metadata": {
        "id": "AeCeakrngtFH"
      },
      "source": [
        "To print current directory"
      ]
    },
    {
      "cell_type": "markdown",
      "metadata": {
        "id": "rDu7bwbNRhaK"
      },
      "source": [
        "# ***2. Preprocess and perform exploratory data analysis of the dataset obtained***"
      ]
    },
    {
      "cell_type": "code",
      "execution_count": null,
      "metadata": {
        "id": "NU2fxSRw4P3R",
        "colab": {
          "base_uri": "https://localhost:8080/"
        },
        "outputId": "e78b8e30-9354-47d3-afff-712d90ef9d02"
      },
      "outputs": [
        {
          "output_type": "execute_result",
          "data": {
            "text/plain": [
              "Index(['Pregnancies', 'Glucose', 'BloodPressure', 'SkinThickness', 'Insulin',\n",
              "       'BMI', 'DiabetesPedigreeFunction', 'Age', 'Outcome'],\n",
              "      dtype='object')"
            ]
          },
          "metadata": {},
          "execution_count": 2
        }
      ],
      "source": [
        "diabetes_df.columns"
      ]
    },
    {
      "cell_type": "code",
      "execution_count": null,
      "metadata": {
        "id": "9WgJLPnp4b6D",
        "colab": {
          "base_uri": "https://localhost:8080/",
          "height": 269
        },
        "outputId": "339d4714-cbbb-4926-9f56-42afc4b32d7f"
      },
      "outputs": [
        {
          "output_type": "execute_result",
          "data": {
            "text/plain": [
              "      Pregnancies     Glucose  BloodPressure  SkinThickness   Insulin  \\\n",
              "mean     4.154000  119.174000      69.804000      21.858000   93.5640   \n",
              "std      3.094096   30.763558      19.049603      14.411705   91.2399   \n",
              "min      0.000000   14.000000      16.000000       0.000000    0.0000   \n",
              "25%      2.000000   96.750000      56.000000      11.000000    0.0000   \n",
              "50%      4.000000  120.000000      69.500000      22.000000   79.5000   \n",
              "75%      6.000000  140.000000      82.000000      32.000000  154.2500   \n",
              "max     15.000000  199.000000     122.000000      62.000000  455.0000   \n",
              "\n",
              "            BMI  DiabetesPedigreeFunction        Age  Outcome  \n",
              "mean  32.506400                  0.508174  33.990000  0.36400  \n",
              "std    8.088949                  0.304194  10.299809  0.48163  \n",
              "min   12.000000                  0.078000  21.000000  0.00000  \n",
              "25%   26.775000                  0.271000  25.000000  0.00000  \n",
              "50%   32.100000                  0.490500  33.000000  0.00000  \n",
              "75%   37.750000                  0.724250  40.250000  1.00000  \n",
              "max   58.400000                  1.447000  79.000000  1.00000  "
            ],
            "text/html": [
              "\n",
              "  <div id=\"df-79bdbe83-684d-437a-8b0a-6f6db1fac17c\" class=\"colab-df-container\">\n",
              "    <div>\n",
              "<style scoped>\n",
              "    .dataframe tbody tr th:only-of-type {\n",
              "        vertical-align: middle;\n",
              "    }\n",
              "\n",
              "    .dataframe tbody tr th {\n",
              "        vertical-align: top;\n",
              "    }\n",
              "\n",
              "    .dataframe thead th {\n",
              "        text-align: right;\n",
              "    }\n",
              "</style>\n",
              "<table border=\"1\" class=\"dataframe\">\n",
              "  <thead>\n",
              "    <tr style=\"text-align: right;\">\n",
              "      <th></th>\n",
              "      <th>Pregnancies</th>\n",
              "      <th>Glucose</th>\n",
              "      <th>BloodPressure</th>\n",
              "      <th>SkinThickness</th>\n",
              "      <th>Insulin</th>\n",
              "      <th>BMI</th>\n",
              "      <th>DiabetesPedigreeFunction</th>\n",
              "      <th>Age</th>\n",
              "      <th>Outcome</th>\n",
              "    </tr>\n",
              "  </thead>\n",
              "  <tbody>\n",
              "    <tr>\n",
              "      <th>mean</th>\n",
              "      <td>4.154000</td>\n",
              "      <td>119.174000</td>\n",
              "      <td>69.804000</td>\n",
              "      <td>21.858000</td>\n",
              "      <td>93.5640</td>\n",
              "      <td>32.506400</td>\n",
              "      <td>0.508174</td>\n",
              "      <td>33.990000</td>\n",
              "      <td>0.36400</td>\n",
              "    </tr>\n",
              "    <tr>\n",
              "      <th>std</th>\n",
              "      <td>3.094096</td>\n",
              "      <td>30.763558</td>\n",
              "      <td>19.049603</td>\n",
              "      <td>14.411705</td>\n",
              "      <td>91.2399</td>\n",
              "      <td>8.088949</td>\n",
              "      <td>0.304194</td>\n",
              "      <td>10.299809</td>\n",
              "      <td>0.48163</td>\n",
              "    </tr>\n",
              "    <tr>\n",
              "      <th>min</th>\n",
              "      <td>0.000000</td>\n",
              "      <td>14.000000</td>\n",
              "      <td>16.000000</td>\n",
              "      <td>0.000000</td>\n",
              "      <td>0.0000</td>\n",
              "      <td>12.000000</td>\n",
              "      <td>0.078000</td>\n",
              "      <td>21.000000</td>\n",
              "      <td>0.00000</td>\n",
              "    </tr>\n",
              "    <tr>\n",
              "      <th>25%</th>\n",
              "      <td>2.000000</td>\n",
              "      <td>96.750000</td>\n",
              "      <td>56.000000</td>\n",
              "      <td>11.000000</td>\n",
              "      <td>0.0000</td>\n",
              "      <td>26.775000</td>\n",
              "      <td>0.271000</td>\n",
              "      <td>25.000000</td>\n",
              "      <td>0.00000</td>\n",
              "    </tr>\n",
              "    <tr>\n",
              "      <th>50%</th>\n",
              "      <td>4.000000</td>\n",
              "      <td>120.000000</td>\n",
              "      <td>69.500000</td>\n",
              "      <td>22.000000</td>\n",
              "      <td>79.5000</td>\n",
              "      <td>32.100000</td>\n",
              "      <td>0.490500</td>\n",
              "      <td>33.000000</td>\n",
              "      <td>0.00000</td>\n",
              "    </tr>\n",
              "    <tr>\n",
              "      <th>75%</th>\n",
              "      <td>6.000000</td>\n",
              "      <td>140.000000</td>\n",
              "      <td>82.000000</td>\n",
              "      <td>32.000000</td>\n",
              "      <td>154.2500</td>\n",
              "      <td>37.750000</td>\n",
              "      <td>0.724250</td>\n",
              "      <td>40.250000</td>\n",
              "      <td>1.00000</td>\n",
              "    </tr>\n",
              "    <tr>\n",
              "      <th>max</th>\n",
              "      <td>15.000000</td>\n",
              "      <td>199.000000</td>\n",
              "      <td>122.000000</td>\n",
              "      <td>62.000000</td>\n",
              "      <td>455.0000</td>\n",
              "      <td>58.400000</td>\n",
              "      <td>1.447000</td>\n",
              "      <td>79.000000</td>\n",
              "      <td>1.00000</td>\n",
              "    </tr>\n",
              "  </tbody>\n",
              "</table>\n",
              "</div>\n",
              "    <div class=\"colab-df-buttons\">\n",
              "\n",
              "  <div class=\"colab-df-container\">\n",
              "    <button class=\"colab-df-convert\" onclick=\"convertToInteractive('df-79bdbe83-684d-437a-8b0a-6f6db1fac17c')\"\n",
              "            title=\"Convert this dataframe to an interactive table.\"\n",
              "            style=\"display:none;\">\n",
              "\n",
              "  <svg xmlns=\"http://www.w3.org/2000/svg\" height=\"24px\" viewBox=\"0 -960 960 960\">\n",
              "    <path d=\"M120-120v-720h720v720H120Zm60-500h600v-160H180v160Zm220 220h160v-160H400v160Zm0 220h160v-160H400v160ZM180-400h160v-160H180v160Zm440 0h160v-160H620v160ZM180-180h160v-160H180v160Zm440 0h160v-160H620v160Z\"/>\n",
              "  </svg>\n",
              "    </button>\n",
              "\n",
              "  <style>\n",
              "    .colab-df-container {\n",
              "      display:flex;\n",
              "      gap: 12px;\n",
              "    }\n",
              "\n",
              "    .colab-df-convert {\n",
              "      background-color: #E8F0FE;\n",
              "      border: none;\n",
              "      border-radius: 50%;\n",
              "      cursor: pointer;\n",
              "      display: none;\n",
              "      fill: #1967D2;\n",
              "      height: 32px;\n",
              "      padding: 0 0 0 0;\n",
              "      width: 32px;\n",
              "    }\n",
              "\n",
              "    .colab-df-convert:hover {\n",
              "      background-color: #E2EBFA;\n",
              "      box-shadow: 0px 1px 2px rgba(60, 64, 67, 0.3), 0px 1px 3px 1px rgba(60, 64, 67, 0.15);\n",
              "      fill: #174EA6;\n",
              "    }\n",
              "\n",
              "    .colab-df-buttons div {\n",
              "      margin-bottom: 4px;\n",
              "    }\n",
              "\n",
              "    [theme=dark] .colab-df-convert {\n",
              "      background-color: #3B4455;\n",
              "      fill: #D2E3FC;\n",
              "    }\n",
              "\n",
              "    [theme=dark] .colab-df-convert:hover {\n",
              "      background-color: #434B5C;\n",
              "      box-shadow: 0px 1px 3px 1px rgba(0, 0, 0, 0.15);\n",
              "      filter: drop-shadow(0px 1px 2px rgba(0, 0, 0, 0.3));\n",
              "      fill: #FFFFFF;\n",
              "    }\n",
              "  </style>\n",
              "\n",
              "    <script>\n",
              "      const buttonEl =\n",
              "        document.querySelector('#df-79bdbe83-684d-437a-8b0a-6f6db1fac17c button.colab-df-convert');\n",
              "      buttonEl.style.display =\n",
              "        google.colab.kernel.accessAllowed ? 'block' : 'none';\n",
              "\n",
              "      async function convertToInteractive(key) {\n",
              "        const element = document.querySelector('#df-79bdbe83-684d-437a-8b0a-6f6db1fac17c');\n",
              "        const dataTable =\n",
              "          await google.colab.kernel.invokeFunction('convertToInteractive',\n",
              "                                                    [key], {});\n",
              "        if (!dataTable) return;\n",
              "\n",
              "        const docLinkHtml = 'Like what you see? Visit the ' +\n",
              "          '<a target=\"_blank\" href=https://colab.research.google.com/notebooks/data_table.ipynb>data table notebook</a>'\n",
              "          + ' to learn more about interactive tables.';\n",
              "        element.innerHTML = '';\n",
              "        dataTable['output_type'] = 'display_data';\n",
              "        await google.colab.output.renderOutput(dataTable, element);\n",
              "        const docLink = document.createElement('div');\n",
              "        docLink.innerHTML = docLinkHtml;\n",
              "        element.appendChild(docLink);\n",
              "      }\n",
              "    </script>\n",
              "  </div>\n",
              "\n",
              "\n",
              "<div id=\"df-773b6371-d18c-4605-a428-b2d9a9f1bf36\">\n",
              "  <button class=\"colab-df-quickchart\" onclick=\"quickchart('df-773b6371-d18c-4605-a428-b2d9a9f1bf36')\"\n",
              "            title=\"Suggest charts.\"\n",
              "            style=\"display:none;\">\n",
              "\n",
              "<svg xmlns=\"http://www.w3.org/2000/svg\" height=\"24px\"viewBox=\"0 0 24 24\"\n",
              "     width=\"24px\">\n",
              "    <g>\n",
              "        <path d=\"M19 3H5c-1.1 0-2 .9-2 2v14c0 1.1.9 2 2 2h14c1.1 0 2-.9 2-2V5c0-1.1-.9-2-2-2zM9 17H7v-7h2v7zm4 0h-2V7h2v10zm4 0h-2v-4h2v4z\"/>\n",
              "    </g>\n",
              "</svg>\n",
              "  </button>\n",
              "\n",
              "<style>\n",
              "  .colab-df-quickchart {\n",
              "      --bg-color: #E8F0FE;\n",
              "      --fill-color: #1967D2;\n",
              "      --hover-bg-color: #E2EBFA;\n",
              "      --hover-fill-color: #174EA6;\n",
              "      --disabled-fill-color: #AAA;\n",
              "      --disabled-bg-color: #DDD;\n",
              "  }\n",
              "\n",
              "  [theme=dark] .colab-df-quickchart {\n",
              "      --bg-color: #3B4455;\n",
              "      --fill-color: #D2E3FC;\n",
              "      --hover-bg-color: #434B5C;\n",
              "      --hover-fill-color: #FFFFFF;\n",
              "      --disabled-bg-color: #3B4455;\n",
              "      --disabled-fill-color: #666;\n",
              "  }\n",
              "\n",
              "  .colab-df-quickchart {\n",
              "    background-color: var(--bg-color);\n",
              "    border: none;\n",
              "    border-radius: 50%;\n",
              "    cursor: pointer;\n",
              "    display: none;\n",
              "    fill: var(--fill-color);\n",
              "    height: 32px;\n",
              "    padding: 0;\n",
              "    width: 32px;\n",
              "  }\n",
              "\n",
              "  .colab-df-quickchart:hover {\n",
              "    background-color: var(--hover-bg-color);\n",
              "    box-shadow: 0 1px 2px rgba(60, 64, 67, 0.3), 0 1px 3px 1px rgba(60, 64, 67, 0.15);\n",
              "    fill: var(--button-hover-fill-color);\n",
              "  }\n",
              "\n",
              "  .colab-df-quickchart-complete:disabled,\n",
              "  .colab-df-quickchart-complete:disabled:hover {\n",
              "    background-color: var(--disabled-bg-color);\n",
              "    fill: var(--disabled-fill-color);\n",
              "    box-shadow: none;\n",
              "  }\n",
              "\n",
              "  .colab-df-spinner {\n",
              "    border: 2px solid var(--fill-color);\n",
              "    border-color: transparent;\n",
              "    border-bottom-color: var(--fill-color);\n",
              "    animation:\n",
              "      spin 1s steps(1) infinite;\n",
              "  }\n",
              "\n",
              "  @keyframes spin {\n",
              "    0% {\n",
              "      border-color: transparent;\n",
              "      border-bottom-color: var(--fill-color);\n",
              "      border-left-color: var(--fill-color);\n",
              "    }\n",
              "    20% {\n",
              "      border-color: transparent;\n",
              "      border-left-color: var(--fill-color);\n",
              "      border-top-color: var(--fill-color);\n",
              "    }\n",
              "    30% {\n",
              "      border-color: transparent;\n",
              "      border-left-color: var(--fill-color);\n",
              "      border-top-color: var(--fill-color);\n",
              "      border-right-color: var(--fill-color);\n",
              "    }\n",
              "    40% {\n",
              "      border-color: transparent;\n",
              "      border-right-color: var(--fill-color);\n",
              "      border-top-color: var(--fill-color);\n",
              "    }\n",
              "    60% {\n",
              "      border-color: transparent;\n",
              "      border-right-color: var(--fill-color);\n",
              "    }\n",
              "    80% {\n",
              "      border-color: transparent;\n",
              "      border-right-color: var(--fill-color);\n",
              "      border-bottom-color: var(--fill-color);\n",
              "    }\n",
              "    90% {\n",
              "      border-color: transparent;\n",
              "      border-bottom-color: var(--fill-color);\n",
              "    }\n",
              "  }\n",
              "</style>\n",
              "\n",
              "  <script>\n",
              "    async function quickchart(key) {\n",
              "      const quickchartButtonEl =\n",
              "        document.querySelector('#' + key + ' button');\n",
              "      quickchartButtonEl.disabled = true;  // To prevent multiple clicks.\n",
              "      quickchartButtonEl.classList.add('colab-df-spinner');\n",
              "      try {\n",
              "        const charts = await google.colab.kernel.invokeFunction(\n",
              "            'suggestCharts', [key], {});\n",
              "      } catch (error) {\n",
              "        console.error('Error during call to suggestCharts:', error);\n",
              "      }\n",
              "      quickchartButtonEl.classList.remove('colab-df-spinner');\n",
              "      quickchartButtonEl.classList.add('colab-df-quickchart-complete');\n",
              "    }\n",
              "    (() => {\n",
              "      let quickchartButtonEl =\n",
              "        document.querySelector('#df-773b6371-d18c-4605-a428-b2d9a9f1bf36 button');\n",
              "      quickchartButtonEl.style.display =\n",
              "        google.colab.kernel.accessAllowed ? 'block' : 'none';\n",
              "    })();\n",
              "  </script>\n",
              "</div>\n",
              "    </div>\n",
              "  </div>\n"
            ]
          },
          "metadata": {},
          "execution_count": 3
        }
      ],
      "source": [
        "diabetes_df.describe()[1:]\n"
      ]
    },
    {
      "cell_type": "code",
      "execution_count": null,
      "metadata": {
        "id": "P-T9likoADSQ",
        "colab": {
          "base_uri": "https://localhost:8080/",
          "height": 332
        },
        "outputId": "b0fdf97f-f427-4f5f-e5c9-02c9e5e2ca0c"
      },
      "outputs": [
        {
          "output_type": "execute_result",
          "data": {
            "text/plain": [
              "                          Pregnancies   Glucose  BloodPressure  SkinThickness  \\\n",
              "Pregnancies                  1.000000  0.154779       0.106457      -0.032271   \n",
              "Glucose                      0.154779  1.000000       0.135865       0.105790   \n",
              "BloodPressure                0.106457  0.135865       1.000000       0.201433   \n",
              "SkinThickness               -0.032271  0.105790       0.201433       1.000000   \n",
              "Insulin                      0.014145  0.294570       0.060954       0.392661   \n",
              "BMI                          0.064129  0.237188       0.254906       0.446452   \n",
              "DiabetesPedigreeFunction    -0.009446  0.088339       0.023784       0.204880   \n",
              "Age                          0.473750  0.247431       0.261053      -0.066676   \n",
              "Outcome                      0.161336  0.363201       0.153043       0.067803   \n",
              "\n",
              "                           Insulin       BMI  DiabetesPedigreeFunction  \\\n",
              "Pregnancies               0.014145  0.064129                 -0.009446   \n",
              "Glucose                   0.294570  0.237188                  0.088339   \n",
              "BloodPressure             0.060954  0.254906                  0.023784   \n",
              "SkinThickness             0.392661  0.446452                  0.204880   \n",
              "Insulin                   1.000000  0.216041                  0.208449   \n",
              "BMI                       0.216041  1.000000                  0.130311   \n",
              "DiabetesPedigreeFunction  0.208449  0.130311                  1.000000   \n",
              "Age                       0.041890  0.046119                  0.063052   \n",
              "Outcome                   0.077314  0.277532                  0.094974   \n",
              "\n",
              "                               Age   Outcome  \n",
              "Pregnancies               0.473750  0.161336  \n",
              "Glucose                   0.247431  0.363201  \n",
              "BloodPressure             0.261053  0.153043  \n",
              "SkinThickness            -0.066676  0.067803  \n",
              "Insulin                   0.041890  0.077314  \n",
              "BMI                       0.046119  0.277532  \n",
              "DiabetesPedigreeFunction  0.063052  0.094974  \n",
              "Age                       1.000000  0.260088  \n",
              "Outcome                   0.260088  1.000000  "
            ],
            "text/html": [
              "\n",
              "  <div id=\"df-99838464-1599-40d8-9606-c5bf0d876701\" class=\"colab-df-container\">\n",
              "    <div>\n",
              "<style scoped>\n",
              "    .dataframe tbody tr th:only-of-type {\n",
              "        vertical-align: middle;\n",
              "    }\n",
              "\n",
              "    .dataframe tbody tr th {\n",
              "        vertical-align: top;\n",
              "    }\n",
              "\n",
              "    .dataframe thead th {\n",
              "        text-align: right;\n",
              "    }\n",
              "</style>\n",
              "<table border=\"1\" class=\"dataframe\">\n",
              "  <thead>\n",
              "    <tr style=\"text-align: right;\">\n",
              "      <th></th>\n",
              "      <th>Pregnancies</th>\n",
              "      <th>Glucose</th>\n",
              "      <th>BloodPressure</th>\n",
              "      <th>SkinThickness</th>\n",
              "      <th>Insulin</th>\n",
              "      <th>BMI</th>\n",
              "      <th>DiabetesPedigreeFunction</th>\n",
              "      <th>Age</th>\n",
              "      <th>Outcome</th>\n",
              "    </tr>\n",
              "  </thead>\n",
              "  <tbody>\n",
              "    <tr>\n",
              "      <th>Pregnancies</th>\n",
              "      <td>1.000000</td>\n",
              "      <td>0.154779</td>\n",
              "      <td>0.106457</td>\n",
              "      <td>-0.032271</td>\n",
              "      <td>0.014145</td>\n",
              "      <td>0.064129</td>\n",
              "      <td>-0.009446</td>\n",
              "      <td>0.473750</td>\n",
              "      <td>0.161336</td>\n",
              "    </tr>\n",
              "    <tr>\n",
              "      <th>Glucose</th>\n",
              "      <td>0.154779</td>\n",
              "      <td>1.000000</td>\n",
              "      <td>0.135865</td>\n",
              "      <td>0.105790</td>\n",
              "      <td>0.294570</td>\n",
              "      <td>0.237188</td>\n",
              "      <td>0.088339</td>\n",
              "      <td>0.247431</td>\n",
              "      <td>0.363201</td>\n",
              "    </tr>\n",
              "    <tr>\n",
              "      <th>BloodPressure</th>\n",
              "      <td>0.106457</td>\n",
              "      <td>0.135865</td>\n",
              "      <td>1.000000</td>\n",
              "      <td>0.201433</td>\n",
              "      <td>0.060954</td>\n",
              "      <td>0.254906</td>\n",
              "      <td>0.023784</td>\n",
              "      <td>0.261053</td>\n",
              "      <td>0.153043</td>\n",
              "    </tr>\n",
              "    <tr>\n",
              "      <th>SkinThickness</th>\n",
              "      <td>-0.032271</td>\n",
              "      <td>0.105790</td>\n",
              "      <td>0.201433</td>\n",
              "      <td>1.000000</td>\n",
              "      <td>0.392661</td>\n",
              "      <td>0.446452</td>\n",
              "      <td>0.204880</td>\n",
              "      <td>-0.066676</td>\n",
              "      <td>0.067803</td>\n",
              "    </tr>\n",
              "    <tr>\n",
              "      <th>Insulin</th>\n",
              "      <td>0.014145</td>\n",
              "      <td>0.294570</td>\n",
              "      <td>0.060954</td>\n",
              "      <td>0.392661</td>\n",
              "      <td>1.000000</td>\n",
              "      <td>0.216041</td>\n",
              "      <td>0.208449</td>\n",
              "      <td>0.041890</td>\n",
              "      <td>0.077314</td>\n",
              "    </tr>\n",
              "    <tr>\n",
              "      <th>BMI</th>\n",
              "      <td>0.064129</td>\n",
              "      <td>0.237188</td>\n",
              "      <td>0.254906</td>\n",
              "      <td>0.446452</td>\n",
              "      <td>0.216041</td>\n",
              "      <td>1.000000</td>\n",
              "      <td>0.130311</td>\n",
              "      <td>0.046119</td>\n",
              "      <td>0.277532</td>\n",
              "    </tr>\n",
              "    <tr>\n",
              "      <th>DiabetesPedigreeFunction</th>\n",
              "      <td>-0.009446</td>\n",
              "      <td>0.088339</td>\n",
              "      <td>0.023784</td>\n",
              "      <td>0.204880</td>\n",
              "      <td>0.208449</td>\n",
              "      <td>0.130311</td>\n",
              "      <td>1.000000</td>\n",
              "      <td>0.063052</td>\n",
              "      <td>0.094974</td>\n",
              "    </tr>\n",
              "    <tr>\n",
              "      <th>Age</th>\n",
              "      <td>0.473750</td>\n",
              "      <td>0.247431</td>\n",
              "      <td>0.261053</td>\n",
              "      <td>-0.066676</td>\n",
              "      <td>0.041890</td>\n",
              "      <td>0.046119</td>\n",
              "      <td>0.063052</td>\n",
              "      <td>1.000000</td>\n",
              "      <td>0.260088</td>\n",
              "    </tr>\n",
              "    <tr>\n",
              "      <th>Outcome</th>\n",
              "      <td>0.161336</td>\n",
              "      <td>0.363201</td>\n",
              "      <td>0.153043</td>\n",
              "      <td>0.067803</td>\n",
              "      <td>0.077314</td>\n",
              "      <td>0.277532</td>\n",
              "      <td>0.094974</td>\n",
              "      <td>0.260088</td>\n",
              "      <td>1.000000</td>\n",
              "    </tr>\n",
              "  </tbody>\n",
              "</table>\n",
              "</div>\n",
              "    <div class=\"colab-df-buttons\">\n",
              "\n",
              "  <div class=\"colab-df-container\">\n",
              "    <button class=\"colab-df-convert\" onclick=\"convertToInteractive('df-99838464-1599-40d8-9606-c5bf0d876701')\"\n",
              "            title=\"Convert this dataframe to an interactive table.\"\n",
              "            style=\"display:none;\">\n",
              "\n",
              "  <svg xmlns=\"http://www.w3.org/2000/svg\" height=\"24px\" viewBox=\"0 -960 960 960\">\n",
              "    <path d=\"M120-120v-720h720v720H120Zm60-500h600v-160H180v160Zm220 220h160v-160H400v160Zm0 220h160v-160H400v160ZM180-400h160v-160H180v160Zm440 0h160v-160H620v160ZM180-180h160v-160H180v160Zm440 0h160v-160H620v160Z\"/>\n",
              "  </svg>\n",
              "    </button>\n",
              "\n",
              "  <style>\n",
              "    .colab-df-container {\n",
              "      display:flex;\n",
              "      gap: 12px;\n",
              "    }\n",
              "\n",
              "    .colab-df-convert {\n",
              "      background-color: #E8F0FE;\n",
              "      border: none;\n",
              "      border-radius: 50%;\n",
              "      cursor: pointer;\n",
              "      display: none;\n",
              "      fill: #1967D2;\n",
              "      height: 32px;\n",
              "      padding: 0 0 0 0;\n",
              "      width: 32px;\n",
              "    }\n",
              "\n",
              "    .colab-df-convert:hover {\n",
              "      background-color: #E2EBFA;\n",
              "      box-shadow: 0px 1px 2px rgba(60, 64, 67, 0.3), 0px 1px 3px 1px rgba(60, 64, 67, 0.15);\n",
              "      fill: #174EA6;\n",
              "    }\n",
              "\n",
              "    .colab-df-buttons div {\n",
              "      margin-bottom: 4px;\n",
              "    }\n",
              "\n",
              "    [theme=dark] .colab-df-convert {\n",
              "      background-color: #3B4455;\n",
              "      fill: #D2E3FC;\n",
              "    }\n",
              "\n",
              "    [theme=dark] .colab-df-convert:hover {\n",
              "      background-color: #434B5C;\n",
              "      box-shadow: 0px 1px 3px 1px rgba(0, 0, 0, 0.15);\n",
              "      filter: drop-shadow(0px 1px 2px rgba(0, 0, 0, 0.3));\n",
              "      fill: #FFFFFF;\n",
              "    }\n",
              "  </style>\n",
              "\n",
              "    <script>\n",
              "      const buttonEl =\n",
              "        document.querySelector('#df-99838464-1599-40d8-9606-c5bf0d876701 button.colab-df-convert');\n",
              "      buttonEl.style.display =\n",
              "        google.colab.kernel.accessAllowed ? 'block' : 'none';\n",
              "\n",
              "      async function convertToInteractive(key) {\n",
              "        const element = document.querySelector('#df-99838464-1599-40d8-9606-c5bf0d876701');\n",
              "        const dataTable =\n",
              "          await google.colab.kernel.invokeFunction('convertToInteractive',\n",
              "                                                    [key], {});\n",
              "        if (!dataTable) return;\n",
              "\n",
              "        const docLinkHtml = 'Like what you see? Visit the ' +\n",
              "          '<a target=\"_blank\" href=https://colab.research.google.com/notebooks/data_table.ipynb>data table notebook</a>'\n",
              "          + ' to learn more about interactive tables.';\n",
              "        element.innerHTML = '';\n",
              "        dataTable['output_type'] = 'display_data';\n",
              "        await google.colab.output.renderOutput(dataTable, element);\n",
              "        const docLink = document.createElement('div');\n",
              "        docLink.innerHTML = docLinkHtml;\n",
              "        element.appendChild(docLink);\n",
              "      }\n",
              "    </script>\n",
              "  </div>\n",
              "\n",
              "\n",
              "<div id=\"df-0dba8dfd-f8ec-4c2a-a6c2-8ff999ad3bfb\">\n",
              "  <button class=\"colab-df-quickchart\" onclick=\"quickchart('df-0dba8dfd-f8ec-4c2a-a6c2-8ff999ad3bfb')\"\n",
              "            title=\"Suggest charts.\"\n",
              "            style=\"display:none;\">\n",
              "\n",
              "<svg xmlns=\"http://www.w3.org/2000/svg\" height=\"24px\"viewBox=\"0 0 24 24\"\n",
              "     width=\"24px\">\n",
              "    <g>\n",
              "        <path d=\"M19 3H5c-1.1 0-2 .9-2 2v14c0 1.1.9 2 2 2h14c1.1 0 2-.9 2-2V5c0-1.1-.9-2-2-2zM9 17H7v-7h2v7zm4 0h-2V7h2v10zm4 0h-2v-4h2v4z\"/>\n",
              "    </g>\n",
              "</svg>\n",
              "  </button>\n",
              "\n",
              "<style>\n",
              "  .colab-df-quickchart {\n",
              "      --bg-color: #E8F0FE;\n",
              "      --fill-color: #1967D2;\n",
              "      --hover-bg-color: #E2EBFA;\n",
              "      --hover-fill-color: #174EA6;\n",
              "      --disabled-fill-color: #AAA;\n",
              "      --disabled-bg-color: #DDD;\n",
              "  }\n",
              "\n",
              "  [theme=dark] .colab-df-quickchart {\n",
              "      --bg-color: #3B4455;\n",
              "      --fill-color: #D2E3FC;\n",
              "      --hover-bg-color: #434B5C;\n",
              "      --hover-fill-color: #FFFFFF;\n",
              "      --disabled-bg-color: #3B4455;\n",
              "      --disabled-fill-color: #666;\n",
              "  }\n",
              "\n",
              "  .colab-df-quickchart {\n",
              "    background-color: var(--bg-color);\n",
              "    border: none;\n",
              "    border-radius: 50%;\n",
              "    cursor: pointer;\n",
              "    display: none;\n",
              "    fill: var(--fill-color);\n",
              "    height: 32px;\n",
              "    padding: 0;\n",
              "    width: 32px;\n",
              "  }\n",
              "\n",
              "  .colab-df-quickchart:hover {\n",
              "    background-color: var(--hover-bg-color);\n",
              "    box-shadow: 0 1px 2px rgba(60, 64, 67, 0.3), 0 1px 3px 1px rgba(60, 64, 67, 0.15);\n",
              "    fill: var(--button-hover-fill-color);\n",
              "  }\n",
              "\n",
              "  .colab-df-quickchart-complete:disabled,\n",
              "  .colab-df-quickchart-complete:disabled:hover {\n",
              "    background-color: var(--disabled-bg-color);\n",
              "    fill: var(--disabled-fill-color);\n",
              "    box-shadow: none;\n",
              "  }\n",
              "\n",
              "  .colab-df-spinner {\n",
              "    border: 2px solid var(--fill-color);\n",
              "    border-color: transparent;\n",
              "    border-bottom-color: var(--fill-color);\n",
              "    animation:\n",
              "      spin 1s steps(1) infinite;\n",
              "  }\n",
              "\n",
              "  @keyframes spin {\n",
              "    0% {\n",
              "      border-color: transparent;\n",
              "      border-bottom-color: var(--fill-color);\n",
              "      border-left-color: var(--fill-color);\n",
              "    }\n",
              "    20% {\n",
              "      border-color: transparent;\n",
              "      border-left-color: var(--fill-color);\n",
              "      border-top-color: var(--fill-color);\n",
              "    }\n",
              "    30% {\n",
              "      border-color: transparent;\n",
              "      border-left-color: var(--fill-color);\n",
              "      border-top-color: var(--fill-color);\n",
              "      border-right-color: var(--fill-color);\n",
              "    }\n",
              "    40% {\n",
              "      border-color: transparent;\n",
              "      border-right-color: var(--fill-color);\n",
              "      border-top-color: var(--fill-color);\n",
              "    }\n",
              "    60% {\n",
              "      border-color: transparent;\n",
              "      border-right-color: var(--fill-color);\n",
              "    }\n",
              "    80% {\n",
              "      border-color: transparent;\n",
              "      border-right-color: var(--fill-color);\n",
              "      border-bottom-color: var(--fill-color);\n",
              "    }\n",
              "    90% {\n",
              "      border-color: transparent;\n",
              "      border-bottom-color: var(--fill-color);\n",
              "    }\n",
              "  }\n",
              "</style>\n",
              "\n",
              "  <script>\n",
              "    async function quickchart(key) {\n",
              "      const quickchartButtonEl =\n",
              "        document.querySelector('#' + key + ' button');\n",
              "      quickchartButtonEl.disabled = true;  // To prevent multiple clicks.\n",
              "      quickchartButtonEl.classList.add('colab-df-spinner');\n",
              "      try {\n",
              "        const charts = await google.colab.kernel.invokeFunction(\n",
              "            'suggestCharts', [key], {});\n",
              "      } catch (error) {\n",
              "        console.error('Error during call to suggestCharts:', error);\n",
              "      }\n",
              "      quickchartButtonEl.classList.remove('colab-df-spinner');\n",
              "      quickchartButtonEl.classList.add('colab-df-quickchart-complete');\n",
              "    }\n",
              "    (() => {\n",
              "      let quickchartButtonEl =\n",
              "        document.querySelector('#df-0dba8dfd-f8ec-4c2a-a6c2-8ff999ad3bfb button');\n",
              "      quickchartButtonEl.style.display =\n",
              "        google.colab.kernel.accessAllowed ? 'block' : 'none';\n",
              "    })();\n",
              "  </script>\n",
              "</div>\n",
              "    </div>\n",
              "  </div>\n"
            ]
          },
          "metadata": {},
          "execution_count": 4
        }
      ],
      "source": [
        "diabetes_df.corr()"
      ]
    },
    {
      "cell_type": "code",
      "execution_count": null,
      "metadata": {
        "id": "RVicswrNmUBP",
        "colab": {
          "base_uri": "https://localhost:8080/",
          "height": 902
        },
        "outputId": "b3d0be01-2899-4999-e0ec-3bcf5cb4d0aa"
      },
      "outputs": [
        {
          "output_type": "display_data",
          "data": {
            "text/plain": [
              "<Figure size 1500x1000 with 8 Axes>"
            ],
            "image/png": "[encoded data removed]"
          },
          "metadata": {}
        }
      ],
      "source": [
        "features = [\"Pregnancies\" , \"Glucose\" , \"BloodPressure\"  , \"SkinThickness\" , \"Insulin\" , \"BMI\" , \"DiabetesPedigreeFunction\" , \"Age\"]\n",
        "X = diabetes_df[features].values\n",
        "y = diabetes_df[\"Outcome\"].values\n",
        "num_features = X.shape[1]\n",
        "fig, axs = plt.subplots(2, num_features // 2, figsize=(15, 10))\n",
        "axs = axs.ravel()\n",
        "for i in range(num_features):\n",
        "    axs[i].scatter(X[:, i], y, alpha=0.5)\n",
        "    axs[i].set_title(f\"Feature {i + 1}\")\n",
        "    axs[i].set_xlabel(f\"Feature {i + 1}\")\n",
        "    axs[i].set_ylabel(\"Target\")\n",
        "plt.tight_layout()\n",
        "plt.show()"
      ]
    },
    {
      "cell_type": "markdown",
      "metadata": {
        "id": "vR2KK_etg8qd"
      },
      "source": []
    },
    {
      "cell_type": "markdown",
      "metadata": {
        "id": "y81SQxOrRso5"
      },
      "source": [
        "# ***3. Comparison of Stochastic Gradient Descent and Batch Gradient Descent using Linear Regression***\n",
        "\n",
        "## **_Stochastic Gradient Descent_**"
      ]
    },
    {
      "cell_type": "code",
      "execution_count": null,
      "metadata": {
        "id": "nBp38BKo_N6q"
      },
      "outputs": [],
      "source": [
        "X = diabetes_df[features].values\n",
        "y = diabetes_df[\"Outcome\"].values\n",
        "mean = np.mean(X, axis=0)\n",
        "std_dev = np.std(X, axis=0)\n",
        "# Standardize the features\n",
        "X_normalized = (X - mean) / std_dev"
      ]
    },
    {
      "cell_type": "code",
      "execution_count": null,
      "metadata": {
        "id": "pJTZw0k3X7li"
      },
      "outputs": [],
      "source": [
        "def SGD():\n",
        "  X = diabetes_df[features].values\n",
        "  mean = np.mean(X, axis=0)\n",
        "  std_dev = np.std(X, axis=0)\n",
        "  # Standardize the features\n",
        "  X = (X - mean) / std_dev\n",
        "  y = diabetes_df[\"Outcome\"].values\n",
        "  # Add a bias term (intercept) to the features\n",
        "  X_with_bias = np.c_[np.ones((X.shape[0], 1)), X]\n",
        "  cost_history = []\n",
        "  # Initialize parameters (coefficients)\n",
        "  theta = np.zeros(X_with_bias.shape[1])\n",
        "  m = len(y)\n",
        "  # Hyperparameters\n",
        "  learning_rate = 0.01\n",
        "  num_iterations = 1000\n",
        "\n",
        "  # Stochastic Gradient Descent\n",
        "  for iteration in range(num_iterations):\n",
        "\n",
        "          # Select a random training example\n",
        "          random_index = np.random.randint(0, len(y))\n",
        "          xi = X_with_bias[random_index]\n",
        "          yi = y[random_index]\n",
        "\n",
        "          # Calculate the prediction for the selected example\n",
        "          prediction = np.dot(xi, theta)\n",
        "\n",
        "          # Calculate the error for the selected example\n",
        "          error = prediction - yi\n",
        "\n",
        "          # Calculate the gradient for the selected example\n",
        "          gradient = xi * error\n",
        "\n",
        "          # Update the parameters using gradient descent\n",
        "          theta -= learning_rate * gradient\n",
        "          cost = (1 / (2 * m)) * np.sum(np.square(prediction - y))\n",
        "          cost_history.append(cost)\n",
        "  predicted_probabilities = np.dot(X_with_bias, theta)\n",
        "  predictionss = (predicted_probabilities >= 0.5).astype(int)\n",
        "\n",
        "\n",
        "  # Print the final parameters and predictions\n",
        "  print(\"Final Coefficients (Theta or weights vector):\", theta)\n",
        "  print(\"\\nPredictions:\", predictionss)\n",
        "  print(\"\\nOriginal:\", y)\n",
        "  return theta,cost_history,predictionss\n",
        "\n",
        "\n"
      ]
    },
    {
      "cell_type": "code",
      "execution_count": null,
      "metadata": {
        "id": "orTUfceHBSGl",
        "colab": {
          "base_uri": "https://localhost:8080/"
        },
        "outputId": "7c801743-4368-4ba6-c7d0-a6895966d8d8"
      },
      "outputs": [
        {
          "output_type": "stream",
          "name": "stdout",
          "text": [
            "Final Coefficients (Theta or weights vector): [ 0.32766978 -0.0216244   0.12120767 -0.03660677  0.0138269  -0.01498036\n",
            "  0.11808678  0.01529641  0.09476486]\n",
            "\n",
            "Predictions: [0 0 0 0 0 1 0 0 1 0 0 0 1 0 0 1 0 1 0 0 1 0 1 0 0 1 0 0 0 0 0 0 0 0 0 1 0\n",
            " 0 0 0 0 0 0 0 0 0 0 0 0 0 0 0 1 0 0 0 0 0 0 1 0 0 0 0 0 0 1 0 0 0 1 0 1 1\n",
            " 0 0 0 0 0 0 0 0 1 0 0 1 0 0 0 0 0 1 0 1 0 0 1 0 0 0 0 1 0 1 0 0 0 1 0 0 0\n",
            " 1 0 0 0 0 0 1 0 1 1 1 0 0 1 0 0 0 0 1 0 0 0 0 0 0 1 0 0 0 0 0 1 0 0 0 0 0\n",
            " 0 0 1 0 0 1 0 0 0 0 0 0 0 0 1 1 0 0 0 0 0 1 1 0 0 0 0 0 0 0 0 0 0 0 1 0 0\n",
            " 0 0 0 0 0 0 0 1 0 0 0 0 0 0 0 0 1 0 0 0 1 1 1 1 0 0 0 0 0 0 0 0 0 0 0 0 0\n",
            " 0 1 0 0 0 0 0 0 0 1 1 1 1 0 1 0 0 0 1 1 0 0 0 0 0 0 0 0 0 0 1 0 0 1 1 0 1\n",
            " 0 0 1 0 0 0 0 0 0 0 0 0 0 0 0 1 0 0 0 0 0 0 1 0 1 0 0 0 1 0 1 0 0 1 0 0 1\n",
            " 0 0 0 0 1 0 0 1 0 1 1 0 0 0 0 0 0 1 0 1 0 1 0 0 0 0 0 0 0 0 0 0 1 0 1 0 0\n",
            " 0 1 0 0 1 0 0 0 0 0 0 0 0 0 0 0 1 0 1 0 0 0 0 0 0 0 1 0 0 0 1 0 0 1 0 0 0\n",
            " 0 0 1 0 0 0 0 0 0 0 1 1 0 0 0 0 0 1 0 0 0 0 1 0 0 1 0 0 1 1 0 0 0 0 0 0 0\n",
            " 1 0 0 0 0 0 0 0 0 0 0 0 0 0 1 0 0 0 0 0 1 0 0 1 1 0 0 0 0 0 0 0 1 0 0 0 0\n",
            " 0 0 0 0 0 0 0 1 0 0 0 0 0 0 1 0 0 0 1 0 0 0 0 0 0 0 0 0 1 0 0 0 0 0 0 0 1\n",
            " 0 0 0 1 0 0 0 0 0 0 0 0 0 1 0 1 0 0 0]\n",
            "\n",
            "Original: [0 0 0 0 0 1 1 0 1 0 1 1 0 0 0 0 0 1 0 0 1 0 1 1 1 0 0 0 0 0 1 0 1 1 0 1 0\n",
            " 0 1 0 0 1 0 0 0 0 0 1 0 1 0 0 1 0 1 1 0 0 0 1 0 0 1 0 1 0 0 1 0 1 1 0 1 1\n",
            " 0 0 0 1 0 0 1 1 0 0 0 1 0 0 0 0 1 1 1 0 0 1 0 0 0 0 0 1 1 1 0 0 0 1 0 0 0\n",
            " 1 1 0 0 0 0 0 0 0 1 1 0 0 1 0 0 1 1 1 0 0 1 1 0 0 0 0 0 1 1 0 0 0 0 0 0 0\n",
            " 0 0 0 0 0 1 1 0 0 0 0 0 0 1 1 1 0 0 1 1 0 0 1 0 0 0 0 0 0 0 1 0 0 1 1 0 1\n",
            " 1 0 0 0 0 0 0 1 0 1 0 0 0 0 0 1 1 0 0 0 0 0 1 1 0 1 0 1 1 0 0 0 0 0 0 1 0\n",
            " 1 1 1 1 0 0 1 0 0 1 0 0 0 0 1 0 1 0 1 1 0 1 0 0 0 1 0 0 0 0 0 1 0 0 1 1 1\n",
            " 1 0 1 0 0 0 0 0 0 0 0 0 1 1 0 1 0 0 0 0 1 0 1 0 1 0 1 0 0 0 1 0 0 0 1 0 0\n",
            " 0 0 0 1 1 1 0 1 1 0 1 1 0 0 0 0 1 1 0 1 0 0 0 1 0 0 0 0 0 1 0 1 1 0 0 0 1\n",
            " 1 0 0 0 1 0 0 0 0 0 0 1 1 1 0 0 1 1 1 0 0 0 1 0 0 0 0 1 1 0 0 1 0 1 1 0 0\n",
            " 0 1 1 0 1 0 0 1 0 0 1 1 1 0 0 1 0 0 0 1 0 1 1 0 0 1 0 1 0 1 0 1 0 0 1 0 0\n",
            " 1 0 0 0 1 0 0 1 0 0 0 1 0 0 1 0 1 0 0 1 1 0 1 1 1 1 0 0 0 0 0 0 0 0 0 0 0\n",
            " 1 1 0 0 0 1 1 1 0 0 0 0 0 0 1 1 0 0 0 0 0 0 0 1 0 0 1 0 1 1 1 1 1 0 0 1 1\n",
            " 0 0 1 1 1 0 0 0 1 0 0 0 0 1 0 1 0 0 0]\n"
          ]
        }
      ],
      "source": [
        "sgd_theta , sgd_cost_history , predictions_sgd = SGD()"
      ]
    },
    {
      "cell_type": "code",
      "execution_count": null,
      "metadata": {
        "id": "yhBQaSDL_yoi"
      },
      "outputs": [],
      "source": [
        "\n"
      ]
    },
    {
      "cell_type": "markdown",
      "metadata": {
        "id": "HqIC34nWR-n7"
      },
      "source": [
        "## **_Batch Gradient Descent_**"
      ]
    },
    {
      "cell_type": "code",
      "execution_count": null,
      "metadata": {
        "id": "-hA5FysjSBzj"
      },
      "outputs": [],
      "source": [
        "def BGD():\n",
        "    # Load the feature data and perform feature scaling\n",
        "    X = diabetes_df[features].values\n",
        "    mean = np.mean(X, axis=0)\n",
        "    std_dev = np.std(X, axis=0)\n",
        "    # Standardize the features\n",
        "    cost_history = []\n",
        "\n",
        "    X = (X - mean) / std_dev\n",
        "\n",
        "    # Get the target variable\n",
        "    y = diabetes_df[\"Outcome\"].values\n",
        "    m = len(y)\n",
        "\n",
        "    # Add a bias term (intercept) to the features\n",
        "    X_with_bias = np.c_[np.ones((X.shape[0], 1)), X]\n",
        "\n",
        "    # Initialize parameters (coefficients)\n",
        "    theta = np.zeros(X_with_bias.shape[1])\n",
        "\n",
        "    # Hyperparameters\n",
        "    learning_rate = 0.01\n",
        "    num_iterations = 1000\n",
        "\n",
        "    # Batch Gradient Descent\n",
        "    for iteration in range(num_iterations):\n",
        "        # Calculate predictions\n",
        "        predictions = np.dot(X_with_bias, theta)\n",
        "\n",
        "        # Calculate the error (difference between predictions and actual labels)\n",
        "        error = predictions - y\n",
        "\n",
        "        # Calculate the gradient\n",
        "        gradient = np.dot(X_with_bias.T, error) / len(y)\n",
        "\n",
        "        # Update the parameters using gradient descent\n",
        "        theta -= learning_rate * gradient\n",
        "\n",
        "        # Calculate the cost (mean squared error)\n",
        "        costs = (1 / (2 * m)) * np.sum(np.square(predictions - y))\n",
        "        cost_history.append(costs)\n",
        "\n",
        "    # Predictions\n",
        "    predicted_probabilities = np.dot(X_with_bias, theta)\n",
        "    predictions = (predicted_probabilities >= 0.5).astype(int)\n",
        "\n",
        "    # Print the final parameters and predictions\n",
        "    print(\"Final Coefficients (Theta or weights vector):\", theta)\n",
        "    print(\"\\nPredictions:\", predictions)\n",
        "    print(\"\\nOriginal:\", y)\n",
        "\n",
        "    return theta , cost_history , predictions\n"
      ]
    },
    {
      "cell_type": "code",
      "execution_count": null,
      "metadata": {
        "id": "9CPs6AG-Bd6F",
        "colab": {
          "base_uri": "https://localhost:8080/"
        },
        "outputId": "a0cc4d26-6e67-4eb3-8c7f-67bf4ffd2aa0"
      },
      "outputs": [
        {
          "output_type": "stream",
          "name": "stdout",
          "text": [
            "Final Coefficients (Theta or weights vector): [ 0.36398429  0.01284563  0.13514453  0.0124893  -0.02046923 -0.02662284\n",
            "  0.10556174  0.02480547  0.07557683]\n",
            "\n",
            "Predictions: [0 0 0 0 1 1 0 0 1 0 1 0 1 0 0 1 0 1 0 0 1 0 1 1 0 1 0 0 0 0 0 0 0 0 0 1 0\n",
            " 0 1 0 0 0 1 0 0 0 0 1 0 0 0 0 1 1 0 0 0 0 0 1 0 0 0 0 0 0 1 0 0 0 1 0 1 1\n",
            " 0 0 0 0 0 1 0 1 1 0 0 0 0 0 0 0 0 1 0 1 0 0 1 0 0 0 0 1 0 1 0 0 0 1 0 0 0\n",
            " 1 0 0 0 0 0 1 0 0 1 1 0 0 1 0 0 0 1 0 0 0 1 0 0 0 1 0 0 0 0 0 1 0 0 0 0 0\n",
            " 0 0 1 0 0 1 0 0 0 0 0 0 0 1 1 1 0 1 1 0 0 1 1 0 0 0 0 0 0 0 0 0 0 0 1 0 0\n",
            " 1 0 0 0 0 0 0 1 0 0 0 0 0 0 0 0 1 0 0 0 1 1 1 1 0 1 0 1 0 0 0 0 0 0 0 0 0\n",
            " 0 1 1 0 0 0 0 0 0 1 0 1 0 0 1 0 0 0 1 1 0 0 0 0 0 0 0 0 0 0 0 1 0 0 1 0 1\n",
            " 0 1 1 0 0 0 0 0 0 0 0 0 1 0 0 1 0 0 1 0 0 0 1 0 1 0 0 0 1 0 1 0 0 1 0 0 1\n",
            " 0 0 0 0 1 1 0 1 0 1 1 0 0 0 0 0 0 0 0 1 0 0 0 1 0 0 1 0 0 1 0 0 0 0 1 0 0\n",
            " 1 1 0 0 1 0 0 0 0 0 0 0 1 1 0 0 1 0 1 0 0 0 1 0 0 0 1 0 0 0 0 0 0 1 0 0 0\n",
            " 0 0 1 0 0 0 0 1 0 0 1 1 0 0 0 0 0 1 0 1 0 0 1 0 0 1 0 0 0 1 0 0 0 0 0 0 0\n",
            " 1 0 0 0 0 0 0 0 0 0 0 1 0 0 1 0 0 0 0 0 1 0 0 1 1 0 0 1 0 0 0 0 1 0 0 0 0\n",
            " 0 0 0 0 0 0 1 1 0 0 1 0 0 0 1 0 0 1 1 0 0 0 0 0 0 0 0 0 1 0 0 0 0 0 1 1 1\n",
            " 0 0 1 1 0 0 1 0 0 0 0 0 1 1 0 1 0 0 0]\n",
            "\n",
            "Original: [0 0 0 0 0 1 1 0 1 0 1 1 0 0 0 0 0 1 0 0 1 0 1 1 1 0 0 0 0 0 1 0 1 1 0 1 0\n",
            " 0 1 0 0 1 0 0 0 0 0 1 0 1 0 0 1 0 1 1 0 0 0 1 0 0 1 0 1 0 0 1 0 1 1 0 1 1\n",
            " 0 0 0 1 0 0 1 1 0 0 0 1 0 0 0 0 1 1 1 0 0 1 0 0 0 0 0 1 1 1 0 0 0 1 0 0 0\n",
            " 1 1 0 0 0 0 0 0 0 1 1 0 0 1 0 0 1 1 1 0 0 1 1 0 0 0 0 0 1 1 0 0 0 0 0 0 0\n",
            " 0 0 0 0 0 1 1 0 0 0 0 0 0 1 1 1 0 0 1 1 0 0 1 0 0 0 0 0 0 0 1 0 0 1 1 0 1\n",
            " 1 0 0 0 0 0 0 1 0 1 0 0 0 0 0 1 1 0 0 0 0 0 1 1 0 1 0 1 1 0 0 0 0 0 0 1 0\n",
            " 1 1 1 1 0 0 1 0 0 1 0 0 0 0 1 0 1 0 1 1 0 1 0 0 0 1 0 0 0 0 0 1 0 0 1 1 1\n",
            " 1 0 1 0 0 0 0 0 0 0 0 0 1 1 0 1 0 0 0 0 1 0 1 0 1 0 1 0 0 0 1 0 0 0 1 0 0\n",
            " 0 0 0 1 1 1 0 1 1 0 1 1 0 0 0 0 1 1 0 1 0 0 0 1 0 0 0 0 0 1 0 1 1 0 0 0 1\n",
            " 1 0 0 0 1 0 0 0 0 0 0 1 1 1 0 0 1 1 1 0 0 0 1 0 0 0 0 1 1 0 0 1 0 1 1 0 0\n",
            " 0 1 1 0 1 0 0 1 0 0 1 1 1 0 0 1 0 0 0 1 0 1 1 0 0 1 0 1 0 1 0 1 0 0 1 0 0\n",
            " 1 0 0 0 1 0 0 1 0 0 0 1 0 0 1 0 1 0 0 1 1 0 1 1 1 1 0 0 0 0 0 0 0 0 0 0 0\n",
            " 1 1 0 0 0 1 1 1 0 0 0 0 0 0 1 1 0 0 0 0 0 0 0 1 0 0 1 0 1 1 1 1 1 0 0 1 1\n",
            " 0 0 1 1 1 0 0 0 1 0 0 0 0 1 0 1 0 0 0]\n"
          ]
        }
      ],
      "source": [
        "bgd_theta , bgd_cost_history , predictions_bgd = BGD()"
      ]
    },
    {
      "cell_type": "markdown",
      "metadata": {
        "id": "8g7NxS5sSCRv"
      },
      "source": [
        "## **_Insights drawn (plots, markdown explanations)_**"
      ]
    },
    {
      "cell_type": "code",
      "execution_count": null,
      "metadata": {
        "id": "uBzFCALCdAQt"
      },
      "outputs": [],
      "source": [
        "#for accuracy\n",
        "def accuracy_percent(predictions_lr):\n",
        "  count=0\n",
        "  for i in range(500):\n",
        "    if(predictions_lr[i]==y[i]):\n",
        "        count+=1\n",
        "\n",
        "  return(count/y.size)*100"
      ]
    },
    {
      "cell_type": "code",
      "execution_count": null,
      "metadata": {
        "id": "Pw63z3amSSo_",
        "colab": {
          "base_uri": "https://localhost:8080/",
          "height": 633
        },
        "outputId": "a3672146-e71e-4c80-a40c-e8c725cb1157"
      },
      "outputs": [
        {
          "output_type": "display_data",
          "data": {
            "text/plain": [
              "<Figure size 1200x600 with 1 Axes>"
            ],
            "image/png": "[encoded data removed]"
          },
          "metadata": {}
        },
        {
          "output_type": "stream",
          "name": "stdout",
          "text": [
            "BGD Execution Time: 0.0000 seconds\n",
            "SGD Execution Time: 0.0000 seconds\n",
            "SGD Accuracy: 71.0\n",
            "BGD Accuracy: 74.6\n"
          ]
        }
      ],
      "source": [
        "start_time = time.time()\n",
        "bgd_time = time.time() - start_time\n",
        "\n",
        "# Measure time taken by SGD\n",
        "start_time = time.time()\n",
        "sgd_time = time.time() - start_time\n",
        "\n",
        "sgd_accuracy = accuracy_percent(predictions_sgd)\n",
        "bgd_accuracy = accuracy_percent(predictions_bgd)\n",
        "# Plot the cost convergence\n",
        "plt.figure(figsize=(12, 6))\n",
        "plt.plot(range(1000), bgd_cost_history, label='BGD')\n",
        "plt.plot(range(1000), sgd_cost_history, label='SGD')\n",
        "plt.xlabel('Iterations')\n",
        "plt.ylabel('Cost')\n",
        "plt.legend()\n",
        "plt.title('Cost Convergence (BGD vs. SGD)')\n",
        "plt.show()\n",
        "\n",
        "print(f\"BGD Execution Time: {bgd_time:.4f} seconds\")\n",
        "print(f\"SGD Execution Time: {sgd_time:.4f} seconds\")\n",
        "print(f\"SGD Accuracy:\" , sgd_accuracy)\n",
        "print(f\"BGD Accuracy:\" ,bgd_accuracy )"
      ]
    },
    {
      "cell_type": "markdown",
      "metadata": {
        "id": "b2Pth7W9pEII"
      },
      "source": [
        "We can see BGD takes more time compared to SGD because of the increased time complexity. The difference here might seem small but when the data is scaled to suppose a million elements, we''ll notice a significant increase in time taken. On the other hand we can see that BGD is more accurate than SGD as provides a more deterministic path to the solution and can be less sensitive to noise in the data.\n",
        "Hence we can say that the choice between BGD, SGD, or mini-batch SGD depends on the specific problem, the size of the dataset, the computational resources available, and the desired trade-offs between convergence speed, generalization, and the risk of getting stuck in local minima."
      ]
    },
    {
      "cell_type": "markdown",
      "metadata": {
        "id": "2p-mPVFCSe9V"
      },
      "source": [
        "# **_5. Comparison of Lasso and Ridge Regression using Polynomial Regression_**\n",
        "\n",
        "## **_Lasso Regression_**"
      ]
    },
    {
      "cell_type": "code",
      "execution_count": null,
      "metadata": {
        "id": "LTjoKWdNSpcE"
      },
      "outputs": [],
      "source": [
        "class LassoRegres():\n",
        "\n",
        "  def __init__(self, learning_rate, no_iterations, lambda_para):\n",
        "    self.learning_rate=learning_rate\n",
        "    self.no_iterations=no_iterations\n",
        "    self.lambda_para=lambda_para\n",
        "\n",
        "  def fit(self,X,Y):\n",
        "    self.m,self.n=X.shape\n",
        "    self.w=np.zeros(self.n)\n",
        "    self.b=0\n",
        "    self.X=X\n",
        "    self.Y=Y\n",
        "    for i in range(self.no_iterations):\n",
        "      self.up_weights()\n",
        "\n",
        "  def up_weights(self):\n",
        "\n",
        "    Y_pred=self.predict(self.X)\n",
        "    dw=np.zeros(self.n)\n",
        "    for i in range(self.n):\n",
        "      if self.w[i]>0:\n",
        "        dw[i]=(-(2*(self.X[:,i]).dot(self.Y-Y_pred))+ self.lambda_para)/self.m\n",
        "\n",
        "      else:\n",
        "        dw[i]=(-(2*(self.X[:,i]).dot(self.Y-Y_pred))-self.lambda_para)/self.m\n",
        "    db=-2*np.sum(self.Y-Y_pred)/self.m\n",
        "\n",
        "    self.w=self.w-self.learning_rate*dw\n",
        "    self.b=self.b-self.learning_rate*db\n",
        "\n",
        "  def predict(self,X):\n",
        "    return X.dot(self.w)+self.b"
      ]
    },
    {
      "cell_type": "code",
      "execution_count": null,
      "metadata": {
        "id": "JiahhTL5uRUp"
      },
      "outputs": [],
      "source": [
        "X= diabetes_df.iloc[:, [0,1,2,3,4,5,6,7]].values\n",
        "Y= diabetes_df.iloc[:, 8].values"
      ]
    },
    {
      "cell_type": "code",
      "execution_count": null,
      "metadata": {
        "id": "7WeUOp7quUpz"
      },
      "outputs": [],
      "source": [
        "def train_test_split(X, Y, test_size=0.2, random_state=None):\n",
        "    if random_state is not None:\n",
        "        np.random.seed(random_state)\n",
        "    indices = np.arange(X.shape[0])\n",
        "    np.random.shuffle(indices)\n",
        "    test_size = int(test_size * X.shape[0])\n",
        "    test_indices = indices[:test_size]\n",
        "    train_indices = indices[test_size:]\n",
        "    X_train, X_test = X[train_indices], X[test_indices]\n",
        "    Y_train, Y_test = Y[train_indices], Y[test_indices]\n",
        "    return X_train, X_test, Y_train, Y_test\n",
        "\n",
        "X_train, X_test, Y_train, Y_test = train_test_split(X, Y, test_size=0.2, random_state=42)"
      ]
    },
    {
      "cell_type": "code",
      "execution_count": null,
      "metadata": {
        "id": "4WNamO81uY7f"
      },
      "outputs": [],
      "source": [
        "def standardize(X):\n",
        "    mean = np.mean(X, axis=0)\n",
        "    std = np.std(X, axis=0)\n",
        "    X_normalized = (X - mean) / std\n",
        "    return X_normalized\n",
        "\n",
        "X_train = standardize(X_train)\n",
        "X_test = standardize(X_test)"
      ]
    },
    {
      "cell_type": "code",
      "execution_count": null,
      "metadata": {
        "id": "PARsXXkmucpq"
      },
      "outputs": [],
      "source": [
        "model=LassoRegres(learning_rate=0.02,no_iterations=1000, lambda_para= 2000)\n",
        "model.fit(X_train,Y_train)"
      ]
    },
    {
      "cell_type": "code",
      "execution_count": null,
      "metadata": {
        "id": "UtKLC9N2uoYs"
      },
      "outputs": [],
      "source": [
        "data_pred=model.predict(X_test)\n",
        "for i in range(len(data_pred)):\n",
        "  if(data_pred[i]>0.5):\n",
        "    data_pred[i]=1\n",
        "  else:\n",
        "    data_pred[i]=0"
      ]
    },
    {
      "cell_type": "code",
      "execution_count": null,
      "metadata": {
        "id": "DbGam4yOtGyZ",
        "colab": {
          "base_uri": "https://localhost:8080/"
        },
        "outputId": "06374de8-e272-444b-82f8-4606ab093d03"
      },
      "outputs": [
        {
          "output_type": "stream",
          "name": "stdout",
          "text": [
            "[0. 1. 0. 0. 0. 0. 1. 1. 0. 0. 0. 0. 0. 0. 0. 0. 0. 0. 0. 0. 0. 0. 0. 0.\n",
            " 0. 0. 0. 0. 1. 1. 0. 0. 0. 0. 0. 1. 0. 1. 0. 0. 0. 0. 0. 0. 0. 0. 0. 0.\n",
            " 0. 0. 1. 0. 0. 0. 0. 0. 0. 0. 0. 0. 1. 0. 0. 0. 0. 0. 1. 0. 0. 0. 0. 0.\n",
            " 1. 0. 0. 0. 0. 0. 0. 0. 0. 0. 0. 1. 0. 0. 0. 0. 0. 0. 1. 1. 0. 0. 1. 0.\n",
            " 0. 0. 0. 0.]\n",
            "[1 1 1 0 0 0 1 1 0 1 0 1 0 0 1 0 0 1 0 0 0 0 0 0 0 0 0 0 1 0 1 0 0 0 0 1 0\n",
            " 1 0 0 0 0 1 1 1 1 0 1 0 1 1 1 0 0 0 1 0 0 0 0 1 0 0 1 0 0 1 0 1 1 0 0 0 0\n",
            " 0 1 0 1 0 0 1 0 0 0 0 1 0 1 1 0 1 1 0 0 1 0 0 0 0 0]\n"
          ]
        }
      ],
      "source": [
        "print(data_pred)\n",
        "print(Y_test)"
      ]
    },
    {
      "cell_type": "code",
      "execution_count": null,
      "metadata": {
        "id": "GuayecAtuwkn",
        "colab": {
          "base_uri": "https://localhost:8080/"
        },
        "outputId": "0178a55a-36ce-4add-e95d-b98f92494e06"
      },
      "outputs": [
        {
          "output_type": "stream",
          "name": "stdout",
          "text": [
            "Accuracy: 73.0\n"
          ]
        }
      ],
      "source": [
        "def accuracy_score(y_true, y_pred):\n",
        "    accuracy = np.mean(y_true == y_pred)\n",
        "    return accuracy\n",
        "accuracy = accuracy_score(Y_test, data_pred)\n",
        "print(\"Accuracy:\", accuracy*100)"
      ]
    },
    {
      "cell_type": "code",
      "execution_count": null,
      "metadata": {
        "id": "M_kUkH8zo7ge",
        "colab": {
          "base_uri": "https://localhost:8080/"
        },
        "outputId": "4bd93725-5910-4580-c255-611a5a1f6de9"
      },
      "outputs": [
        {
          "output_type": "stream",
          "name": "stdout",
          "text": [
            "Custom MSE: 0.27\n"
          ]
        }
      ],
      "source": [
        "def mean_squared_error_custom(y_true, y_pred):\n",
        "\n",
        "    # Ensure that y_true and y_pred have the same length\n",
        "    if len(y_true) != len(y_pred):\n",
        "        raise ValueError(\"Input arrays must have the same length\")\n",
        "\n",
        "    # Calculate the squared differences between true and predicted values\n",
        "    squared_errors = [(true - pred) ** 2 for true, pred in zip(y_true, y_pred)]\n",
        "\n",
        "    # Calculate the mean of squared errors\n",
        "    mse = sum(squared_errors) / len(y_true)\n",
        "\n",
        "    return mse\n",
        "\n",
        "lasso_mse_custom = mean_squared_error_custom(Y_test, data_pred)\n",
        "print(\"Custom MSE:\", lasso_mse_custom)\n"
      ]
    },
    {
      "cell_type": "code",
      "execution_count": null,
      "metadata": {
        "id": "avksrduoyxdr",
        "colab": {
          "base_uri": "https://localhost:8080/"
        },
        "outputId": "db402646-467b-4d5e-858b-82949a6cda09"
      },
      "outputs": [
        {
          "output_type": "stream",
          "name": "stdout",
          "text": [
            "Custom R-squared: -0.171875\n"
          ]
        }
      ],
      "source": [
        "def r2_score_custom(y_true, y_pred):\n",
        "    # Calculate the mean of y_true\n",
        "    mean_y_true = sum(y_true) / len(y_true)\n",
        "\n",
        "    # Calculate Total Sum of Squares (TSS)\n",
        "    tss = sum((y - mean_y_true) ** 2 for y in y_true)\n",
        "\n",
        "    # Calculate Residual Sum of Squares (RSS)\n",
        "    rss = sum((y_true[i] - y_pred[i]) ** 2 for i in range(len(y_true)))\n",
        "\n",
        "    # Calculate R-squared (R²)\n",
        "    r2 = 1 - (rss / tss)\n",
        "\n",
        "    return r2\n",
        "\n",
        "lasso_r2_custom = r2_score_custom(Y_test, data_pred)\n",
        "print(\"Custom R-squared:\", lasso_r2_custom)\n"
      ]
    },
    {
      "cell_type": "code",
      "execution_count": null,
      "metadata": {
        "id": "XMrs2GDdy_YX"
      },
      "outputs": [],
      "source": []
    },
    {
      "cell_type": "markdown",
      "metadata": {
        "id": "Dr-p_RtzSqUF"
      },
      "source": [
        "## **_Ridge Regression_**"
      ]
    },
    {
      "cell_type": "markdown",
      "metadata": {
        "id": "rdi5RGJPYzPn"
      },
      "source": [
        "Loading dataset"
      ]
    },
    {
      "cell_type": "code",
      "execution_count": null,
      "metadata": {
        "id": "1mKV6jBzugrF",
        "colab": {
          "base_uri": "https://localhost:8080/"
        },
        "outputId": "8b95ee97-dd65-4f07-ce42-5e406b647c5d"
      },
      "outputs": [
        {
          "output_type": "stream",
          "name": "stdout",
          "text": [
            "Coefficients: [ 0.00296493  0.12784313  0.01514801 -0.03801411 -0.03434275  0.10637175\n",
            "  0.03487923  0.09906767]\n",
            "Bias: 0.3649999993857169\n"
          ]
        }
      ],
      "source": [
        "import numpy as np\n",
        "\n",
        "def ridge_regression(X, y, alpha, learning_rate, num_iterations):\n",
        "    n, m = X.shape\n",
        "    beta = np.zeros(m)  # Initialize coefficients with zeros\n",
        "    bias = 0.0  # Initialize bias with zero\n",
        "\n",
        "    for _ in range(num_iterations):\n",
        "        # Calculate predictions\n",
        "        y_pred = np.dot(X, beta) + bias\n",
        "\n",
        "        # Calculate the gradient of the cost function\n",
        "        gradient = (-2/n) * (np.dot(X.T, (y - y_pred)) + alpha * beta)\n",
        "\n",
        "        # Update coefficients using gradient descent\n",
        "        beta -= learning_rate * gradient\n",
        "\n",
        "        # Update bias\n",
        "        bias -= learning_rate * (-2/n) * np.sum(y - y_pred)\n",
        "\n",
        "    return beta, bias\n",
        "\n",
        "\n",
        "\n",
        "alpha = 1.0  # Regularization parameter\n",
        "learning_rate = 0.01  # Learning rate for gradient descent\n",
        "num_iterations = 1000  # Number of gradient descent iterations\n",
        "\n",
        "coefficients, bias = ridge_regression(X_train, Y_train, alpha, learning_rate, num_iterations)\n",
        "\n",
        "print(\"Coefficients:\", coefficients)\n",
        "print(\"Bias:\", bias)\n"
      ]
    },
    {
      "cell_type": "code",
      "execution_count": null,
      "metadata": {
        "id": "ytcKzxtmu9xv"
      },
      "outputs": [],
      "source": [
        "y_predictions = np.dot(X_test, coefficients) + bias\n",
        "for i in range(len(y_predictions)):\n",
        "  if(y_predictions[i]>0.5):\n",
        "    y_predictions[i]=1\n",
        "  else:\n",
        "    y_predictions[i]=0"
      ]
    },
    {
      "cell_type": "code",
      "execution_count": null,
      "metadata": {
        "id": "mr2IRi78vNn3",
        "colab": {
          "base_uri": "https://localhost:8080/"
        },
        "outputId": "b073d120-54cf-4a3f-d4e2-87ecfcdcda99"
      },
      "outputs": [
        {
          "output_type": "stream",
          "name": "stdout",
          "text": [
            "[0. 1. 0. 0. 0. 0. 1. 1. 0. 1. 0. 0. 0. 0. 0. 0. 0. 0. 1. 0. 0. 0. 0. 0.\n",
            " 0. 1. 0. 0. 1. 1. 0. 0. 0. 0. 0. 1. 0. 1. 0. 0. 0. 1. 0. 1. 0. 0. 0. 0.\n",
            " 0. 1. 1. 1. 1. 0. 0. 0. 0. 1. 0. 0. 1. 0. 1. 1. 1. 0. 1. 0. 0. 0. 0. 0.\n",
            " 1. 0. 1. 0. 0. 0. 0. 0. 0. 1. 0. 0. 0. 0. 0. 0. 0. 0. 1. 1. 0. 0. 1. 0.\n",
            " 0. 0. 0. 1.]\n"
          ]
        }
      ],
      "source": [
        "print(y_predictions)\n"
      ]
    },
    {
      "cell_type": "code",
      "execution_count": null,
      "metadata": {
        "id": "7PNzsTRbv6UA",
        "colab": {
          "base_uri": "https://localhost:8080/"
        },
        "outputId": "ca558874-ed80-496f-f778-77057ba2f6db"
      },
      "outputs": [
        {
          "output_type": "stream",
          "name": "stdout",
          "text": [
            "[1 1 1 0 0 0 1 1 0 1 0 1 0 0 1 0 0 1 0 0 0 0 0 0 0 0 0 0 1 0 1 0 0 0 0 1 0\n",
            " 1 0 0 0 0 1 1 1 1 0 1 0 1 1 1 0 0 0 1 0 0 0 0 1 0 0 1 0 0 1 0 1 1 0 0 0 0\n",
            " 0 1 0 1 0 0 1 0 0 0 0 1 0 1 1 0 1 1 0 0 1 0 0 0 0 0]\n"
          ]
        }
      ],
      "source": [
        "print(Y_test)"
      ]
    },
    {
      "cell_type": "code",
      "execution_count": null,
      "metadata": {
        "id": "r6pP7DoKkony",
        "colab": {
          "base_uri": "https://localhost:8080/"
        },
        "outputId": "bedbacdc-449b-472f-f1fb-b7bd970b38a3"
      },
      "outputs": [
        {
          "output_type": "stream",
          "name": "stdout",
          "text": [
            "Accuracy: 0.69\n"
          ]
        }
      ],
      "source": [
        "def accuracy_score(y_true, y_pred):\n",
        "    accuracy = np.mean(y_true == y_pred)\n",
        "    return accuracy\n",
        "accuracy = accuracy_score(Y_test, y_predictions)\n",
        "print(\"Accuracy:\", accuracy*100)\n"
      ]
    },
    {
      "cell_type": "code",
      "execution_count": null,
      "metadata": {
        "id": "2fAqdFJmwQZi",
        "colab": {
          "base_uri": "https://localhost:8080/"
        },
        "outputId": "d5b96597-4368-4a37-d09b-dc830dc60bff"
      },
      "outputs": [
        {
          "output_type": "stream",
          "name": "stdout",
          "text": [
            "Custom MSE: 0.31\n"
          ]
        }
      ],
      "source": [
        "def mean_squared_error_custom(y_true, y_pred):\n",
        "\n",
        "    # Ensure that y_true and y_pred have the same length\n",
        "    if len(y_true) != len(y_pred):\n",
        "        raise ValueError(\"Input arrays must have the same length\")\n",
        "\n",
        "    # Calculate the squared differences between true and predicted values\n",
        "    squared_errors = [(true - pred) ** 2 for true, pred in zip(y_true, y_pred)]\n",
        "\n",
        "    # Calculate the mean of squared errors\n",
        "    mse = sum(squared_errors) / len(y_true)\n",
        "\n",
        "    return mse\n",
        "\n",
        "ridge_mse_custom = mean_squared_error_custom(Y_test, y_predictions)\n",
        "print(\"Custom MSE:\", ridge_mse_custom)"
      ]
    },
    {
      "cell_type": "code",
      "execution_count": null,
      "metadata": {
        "id": "jyb8df1VzAoE",
        "colab": {
          "base_uri": "https://localhost:8080/"
        },
        "outputId": "77d5a4f2-2068-4daf-a7d0-7f261fc7ec96"
      },
      "outputs": [
        {
          "output_type": "stream",
          "name": "stdout",
          "text": [
            "Custom R-squared: -0.34548611111111116\n"
          ]
        }
      ],
      "source": [
        "def r2_score_custom(y_true, y_pred):\n",
        "    # Calculate the mean of y_true\n",
        "    mean_y_true = sum(y_true) / len(y_true)\n",
        "\n",
        "    # Calculate Total Sum of Squares (TSS)\n",
        "    tss = sum((y - mean_y_true) ** 2 for y in y_true)\n",
        "\n",
        "    # Calculate Residual Sum of Squares (RSS)\n",
        "    rss = sum((y_true[i] - y_pred[i]) ** 2 for i in range(len(y_true)))\n",
        "\n",
        "    # Calculate R-squared (R²)\n",
        "    r2 = 1 - (rss / tss)\n",
        "\n",
        "    return r2\n",
        "\n",
        "\n",
        "ridge_r2_custom = r2_score_custom(Y_test, y_predictions)\n",
        "print(\"Custom R-squared:\", ridge_r2_custom)\n"
      ]
    },
    {
      "cell_type": "markdown",
      "metadata": {
        "id": "FlUMAWsiSug9"
      },
      "source": [
        "## **_Insights drawn (plots, markdown explanations)_**"
      ]
    },
    {
      "cell_type": "code",
      "execution_count": null,
      "metadata": {
        "id": "ZRRNyaimS0iR",
        "colab": {
          "base_uri": "https://localhost:8080/"
        },
        "outputId": "8bfd9f05-2c17-4263-cccd-b4231865356e"
      },
      "outputs": [
        {
          "output_type": "stream",
          "name": "stdout",
          "text": [
            "Lasso MSE: 0.27\n",
            "Lasso R-squared: -0.171875\n",
            "Ridge MSE: 0.31\n",
            "Ridge R-squared: -0.34548611111111116\n"
          ]
        }
      ],
      "source": [
        "print(\"Lasso MSE:\", lasso_mse_custom)\n",
        "print(\"Lasso R-squared:\", lasso_r2_custom)\n",
        "print(\"Ridge MSE:\", ridge_mse_custom)\n",
        "print(\"Ridge R-squared:\", ridge_r2_custom)\n"
      ]
    },
    {
      "cell_type": "markdown",
      "metadata": {
        "id": "hx3bNQfL2YDT"
      },
      "source": []
    },
    {
      "cell_type": "code",
      "source": [
        "# Initialize parameters for Lasso and Ridge regression\n",
        "learning_rate_lasso = 0.02\n",
        "no_iterations_lasso = 1000\n",
        "lambda_lasso = 2000\n",
        "\n",
        "alpha_ridge = 1.0\n",
        "learning_rate_ridge = 0.01\n",
        "num_iterations_ridge = 1000\n",
        "\n",
        "# Measure the time taken by Lasso regression\n",
        "start_time_lasso = time.time()\n",
        "model_lasso = LassoRegres(learning_rate=learning_rate_lasso, no_iterations=no_iterations_lasso, lambda_para=lambda_lasso)\n",
        "model_lasso.fit(X_train, Y_train)\n",
        "data_pred_lasso = model_lasso.predict(X_test)\n",
        "end_time_lasso = time.time()\n",
        "\n",
        "# Measure the time taken by Ridge regression\n",
        "start_time_ridge = time.time()\n",
        "coefficients, bias = ridge_regression(X_train, Y_train, alpha_ridge, learning_rate_ridge, num_iterations_ridge)\n",
        "y_predictions_ridge = np.dot(X_test, coefficients) + bias\n",
        "end_time_ridge = time.time()\n",
        "\n",
        "# Calculate accuracy for Lasso regression\n",
        "accuracy_lasso = np.mean((data_pred_lasso >= 0.5).astype(int) == Y_test)\n",
        "\n",
        "# Calculate accuracy for Ridge regression\n",
        "accuracy_ridge = np.mean((y_predictions_ridge >= 0.5).astype(int) == Y_test)\n",
        "\n",
        "# Calculate time difference\n",
        "time_difference_lasso = end_time_lasso - start_time_lasso\n",
        "time_difference_ridge = end_time_ridge - start_time_ridge\n",
        "\n",
        "print(\"Lasso Accuracy:\", accuracy_lasso*100)\n",
        "print(\"Ridge Accuracy:\", accuracy_ridge*100)\n",
        "print(\"Time Difference (Lasso):\", time_difference_lasso)\n",
        "print(\"Time Difference (Ridge):\", time_difference_ridge)\n",
        "\n",
        "# Create a Pandas DataFrame to store the results\n",
        "results_df = pd.DataFrame({'Method': ['Lasso', 'Ridge'],\n",
        "                            'Accuracy': [accuracy_lasso, accuracy_ridge],\n",
        "                            'Time (s)': [time_difference_lasso, time_difference_ridge]})\n",
        "\n",
        "# Plot a bar graph to compare accuracy and time\n",
        "import matplotlib.pyplot as plt\n",
        "\n",
        "plt.figure(figsize=(8, 6))\n",
        "plt.bar(results_df['Method'], results_df['Accuracy'], color='skyblue', label='Accuracy')\n",
        "plt.ylabel('Accuracy')\n",
        "plt.twinx()\n",
        "plt.plot(results_df['Method'], results_df['Time (s)'], color='orange', marker='o', label='Time (s)')\n",
        "plt.ylabel('Time (s)')\n",
        "plt.title('Accuracy and Time Comparison (Lasso vs. Ridge)')\n",
        "plt.legend(loc='upper left')\n",
        "plt.show()"
      ],
      "metadata": {
        "colab": {
          "base_uri": "https://localhost:8080/",
          "height": 614
        },
        "id": "nYUrJtvSNAsy",
        "outputId": "2a6a9735-bc1a-458f-d7b6-299a6b43c061"
      },
      "execution_count": null,
      "outputs": [
        {
          "output_type": "stream",
          "name": "stdout",
          "text": [
            "Lasso Accuracy: 0.73\n",
            "Ridge Accuracy: 0.69\n",
            "Time Difference (Lasso): 0.0606694221496582\n",
            "Time Difference (Ridge): 0.021491527557373047\n"
          ]
        },
        {
          "output_type": "display_data",
          "data": {
            "text/plain": [
              "<Figure size 800x600 with 2 Axes>"
            ],
            "image/png": "[encoded data removed]"
          },
          "metadata": {}
        }
      ]
    },
    {
      "cell_type": "markdown",
      "metadata": {
        "id": "jzSfpXtdS_q0"
      },
      "source": [
        "# **_5. Comparison of Logistic Regression and Least Squares Classification_**\n",
        "\n",
        "## **_Logistic Regression_**"
      ]
    },
    {
      "cell_type": "code",
      "execution_count": null,
      "metadata": {
        "id": "JLCup6QlTG0G"
      },
      "outputs": [],
      "source": [
        "import time\n",
        "import numpy as np\n",
        "import pandas as pd  # Assuming you've imported pandas for diabetes_df\n",
        "\n",
        "start_time = time.time()\n",
        "\n",
        "#Extract features and target variable\n",
        "X= diabetes_df.iloc[:, [0,1,2,3,4,5,6,7]].values\n",
        "Y= diabetes_df.iloc[:, 8].values\n",
        "\n",
        "#split the data into training and testing sets\n",
        "def train_test_split(X, y, test_size=0.2, random_state=None):\n",
        "    if random_state is not None:\n",
        "        np.random.seed(random_state)\n",
        "    indices = np.arange(X.shape[0])\n",
        "    np.random.shuffle(indices)\n",
        "    test_size = int(test_size * X.shape[0])\n",
        "    test_indices = indices[:test_size]\n",
        "    train_indices = indices[test_size:]\n",
        "    X_train, X_test = X[train_indices], X[test_indices]\n",
        "    y_train, y_test = y[train_indices], y[test_indices]\n",
        "    return X_train, X_test, y_train, y_test\n",
        "\n",
        "X_train, X_test, y_train, y_test = train_test_split(X, Y, test_size=0.2, random_state=42)"
      ]
    },
    {
      "cell_type": "code",
      "execution_count": null,
      "metadata": {
        "id": "Iw_guCL2voiN"
      },
      "outputs": [],
      "source": [
        "def standardize(X):\n",
        "    mean = np.mean(X, axis=0)\n",
        "    std = np.std(X, axis=0)\n",
        "    X_normalized = (X - mean) / std\n",
        "    return X_normalized\n",
        "\n",
        "X_train = standardize(X_train)\n",
        "X_test = standardize(X_test)"
      ]
    },
    {
      "cell_type": "code",
      "execution_count": null,
      "metadata": {
        "id": "cAbAvsL2vvia"
      },
      "outputs": [],
      "source": [
        "#Implement Logistic Regression using NumPy\n",
        "class LogisticRegression:\n",
        "    def __init__(self, learning_rate=0.01, num_iterations=1000):\n",
        "        self.learning_rate = learning_rate\n",
        "        self.num_iterations = num_iterations\n",
        "        self.theta = None\n",
        "\n",
        "    def sigmoid(self, z):\n",
        "        return 1 / (1 + np.exp(-z))\n",
        "\n",
        "    def fit(self, X, y):\n",
        "        m, n = X.shape\n",
        "        self.theta = np.zeros(n)\n",
        "\n",
        "        for _ in range(self.num_iterations):\n",
        "            z = np.dot(X, self.theta)\n",
        "            h = self.sigmoid(z)\n",
        "            gradient = np.dot(X.T, (h - y)) / m\n",
        "            self.theta -= self.learning_rate * gradient\n",
        "\n",
        "    def predict(self, X):\n",
        "        z = np.dot(X, self.theta)\n",
        "        h = self.sigmoid(z)\n",
        "        return (h >= 0.55).astype(int)"
      ]
    },
    {
      "cell_type": "code",
      "execution_count": null,
      "metadata": {
        "id": "ubucfmm7vyx2"
      },
      "outputs": [],
      "source": [
        "# Train the Logistic Regression model\n",
        "model = LogisticRegression(learning_rate=0.025, num_iterations=1000)\n",
        "model.fit(X_train, y_train)\n",
        "\n",
        "# Make predictions\n",
        "y_pred = model.predict(X_test)"
      ]
    },
    {
      "cell_type": "code",
      "execution_count": null,
      "metadata": {
        "id": "ht1_ZCElv2FM",
        "colab": {
          "base_uri": "https://localhost:8080/"
        },
        "outputId": "6712f24b-3d7a-4aca-d708-d74d62528352"
      },
      "outputs": [
        {
          "output_type": "stream",
          "name": "stdout",
          "text": [
            "[0 1 0 0 0 1 1 1 0 1 0 0 0 0 1 0 0 1 1 0 0 0 0 0 0 1 0 0 1 1 1 0 0 0 0 1 0\n",
            " 1 1 0 0 1 0 1 0 0 0 0 0 1 1 1 1 0 1 1 0 1 0 0 1 0 1 1 1 1 1 0 0 1 0 0 1 0\n",
            " 1 0 0 0 0 0 1 1 1 1 0 0 0 1 0 0 1 1 0 0 1 0 0 0 0 1]\n",
            "[1 1 1 0 0 0 1 1 0 1 0 1 0 0 1 0 0 1 0 0 0 0 0 0 0 0 0 0 1 0 1 0 0 0 0 1 0\n",
            " 1 0 0 0 0 1 1 1 1 0 1 0 1 1 1 0 0 0 1 0 0 0 0 1 0 0 1 0 0 1 0 1 1 0 0 0 0\n",
            " 0 1 0 1 0 0 1 0 0 0 0 1 0 1 1 0 1 1 0 0 1 0 0 0 0 0]\n"
          ]
        }
      ],
      "source": [
        "print(y_pred)\n",
        "print(y_test)"
      ]
    },
    {
      "cell_type": "code",
      "execution_count": null,
      "metadata": {
        "id": "F3476PIfv6Ag",
        "colab": {
          "base_uri": "https://localhost:8080/"
        },
        "outputId": "8279198e-1899-4800-da80-c35ea62b5324"
      },
      "outputs": [
        {
          "output_type": "stream",
          "name": "stdout",
          "text": [
            "Accuracy: 0.7\n",
            "Confusion Matrix:\n",
            " [[46 18]\n",
            " [12 24]]\n",
            "Classification Report:\n",
            " {'Precision': 0.5714285714285714, 'Recall': 0.6666666666666666, 'F1 Score': 0.6153846153846153}\n",
            "Time taken: 0.08591675758361816 seconds\n"
          ]
        }
      ],
      "source": [
        "#Evaluate the model\n",
        "def accuracy_score(y_true, y_pred):\n",
        "    accuracy = np.mean(y_true == y_pred)\n",
        "    return accuracy\n",
        "\n",
        "def confusion_matrix(y_true, y_pred):\n",
        "    tp = np.sum((y_true == 1) & (y_pred == 1))\n",
        "    tn = np.sum((y_true == 0) & (y_pred == 0))\n",
        "    fp = np.sum((y_true == 0) & (y_pred == 1))\n",
        "    fn = np.sum((y_true == 1) & (y_pred == 0))\n",
        "    return np.array([[tn, fp], [fn, tp]])\n",
        "\n",
        "def classification_report(y_true, y_pred):\n",
        "    tn, fp, fn, tp = confusion_matrix(y_true, y_pred).ravel()\n",
        "    precision = tp / (tp + fp)\n",
        "    recall = tp / (tp + fn)\n",
        "    f1_score = 2 * (precision * recall) / (precision + recall)\n",
        "    return {\n",
        "        \"Precision\": precision,\n",
        "        \"Recall\": recall,\n",
        "        \"F1 Score\": f1_score,\n",
        "    }\n",
        "\n",
        "accuracy = accuracy_score(y_test, y_pred)\n",
        "confusion = confusion_matrix(y_test, y_pred)\n",
        "report = classification_report(y_test, y_pred)\n",
        "\n",
        "end_time = time.time()\n",
        "\n",
        "print(\"Accuracy:\", accuracy)\n",
        "print(\"Confusion Matrix:\\n\", confusion)\n",
        "print(\"Classification Report:\\n\", report)\n",
        "print(f\"Time taken: {end_time - start_time} seconds\")\n",
        "accuracy_logistics = accuracy\n",
        "logistics_reg_time = end_time-start_time;\n"
      ]
    },
    {
      "cell_type": "markdown",
      "metadata": {
        "id": "kdX2kQ-nTHXc"
      },
      "source": [
        "## **_Least Squares Classification_**"
      ]
    },
    {
      "cell_type": "code",
      "execution_count": null,
      "metadata": {
        "id": "_7qJtwGnTMdb",
        "colab": {
          "base_uri": "https://localhost:8080/"
        },
        "outputId": "fef4418c-41aa-4a8f-a6ad-9d2c81856586"
      },
      "outputs": [
        {
          "output_type": "stream",
          "name": "stdout",
          "text": [
            "y_pred_binary: [0 1 0 0 0 0 0 1 0 0 1 0 1 0 1 1 0 0 0 0]\n",
            "Accuracy: 0.65\n",
            "Time taken: 0.0035173892974853516 seconds\n"
          ]
        }
      ],
      "source": [
        "import time\n",
        "import numpy as np\n",
        "\n",
        "start_time = time.time()\n",
        "\n",
        "class LSC:\n",
        "    @staticmethod\n",
        "    def train_test_split(X, y, test_size=0.2, random_state=None):\n",
        "        if random_state is not None:\n",
        "            np.random.seed(random_state)\n",
        "        indices = np.arange(len(X))\n",
        "        np.random.shuffle(indices)\n",
        "        split_idx = int(len(X) * (1 - test_size))\n",
        "        train_indices, test_indices = indices[:split_idx], indices[split_idx:]\n",
        "        X_train, X_test = X[train_indices], X[test_indices]\n",
        "        y_train, y_test = y[train_indices], y[test_indices]\n",
        "        return X_train, X_test, y_train, y_test\n",
        "\n",
        "# Create some mock data for X and y (you should replace this with your actual data)\n",
        "X = np.random.rand(100, 2)\n",
        "y = np.random.randint(2, size=100)\n",
        "\n",
        "X_train, X_test, y_train, y_test = LSC.train_test_split(X, y, test_size=0.2, random_state=42)\n",
        "\n",
        "class LinearRegressionLS:\n",
        "    def __init__(self):\n",
        "        self.weights = None\n",
        "\n",
        "    def fit(self, X, y):\n",
        "        X_bias = np.column_stack((np.ones(X.shape[0]), X))\n",
        "        self.weights = np.linalg.inv(X_bias.T @ X_bias) @ X_bias.T @ y\n",
        "\n",
        "    def predict(self, X):\n",
        "        X_bias = np.column_stack((np.ones(X.shape[0]), X))\n",
        "        y_pred = X_bias @ self.weights\n",
        "        return y_pred\n",
        "\n",
        "model = LinearRegressionLS()\n",
        "model.fit(X_train, y_train)\n",
        "y_pred = model.predict(X_test)\n",
        "\n",
        "threshold = 0.5\n",
        "y_pred_binary = (y_pred > threshold).astype(int)\n",
        "\n",
        "accuracy = np.mean(y_pred_binary == y_test)\n",
        "\n",
        "end_time = time.time()\n",
        "\n",
        "print(\"y_pred_binary:\", y_pred_binary)\n",
        "print(\"Accuracy:\", accuracy)\n",
        "print(f\"Time taken: {end_time - start_time} seconds\")\n",
        "least_squares_time = end_time - start_time;\n"
      ]
    },
    {
      "cell_type": "code",
      "execution_count": null,
      "metadata": {
        "id": "UTDG6rmOfmRE",
        "colab": {
          "base_uri": "https://localhost:8080/"
        },
        "outputId": "08c37247-ef24-4670-b8f1-db4e818d4c8d"
      },
      "outputs": [
        {
          "output_type": "stream",
          "name": "stdout",
          "text": [
            "Accuracy: 65.0\n"
          ]
        }
      ],
      "source": [
        "print(\"Accuracy:\", accuracy*100)\n",
        "accuracy_least_squares = accuracy*100"
      ]
    },
    {
      "cell_type": "markdown",
      "metadata": {
        "id": "WSoa7KO1TM6-"
      },
      "source": [
        "## **_Insights drawn (plots, markdown explanations)_**"
      ]
    },
    {
      "cell_type": "code",
      "source": [
        "import numpy as np\n",
        "import pandas as pd\n",
        "import time\n",
        "import matplotlib.pyplot as plt\n",
        "\n",
        "# Assuming you have defined the LogisticRegression class and LSC class\n",
        "\n",
        "# Extract features and target variable for Logistic Regression\n",
        "X_logistic = diabetes_df.iloc[:, [0, 1, 2, 3, 4, 5, 6, 7]].values\n",
        "Y_logistic = diabetes_df.iloc[:, 8].values\n",
        "\n",
        "# Split the data into training and testing sets for Logistic Regression\n",
        "X_train_logistic, X_test_logistic, y_train_logistic, y_test_logistic = train_test_split(X_logistic, Y_logistic, test_size=0.2, random_state=42)\n",
        "\n",
        "# Standardize the data for Logistic Regression\n",
        "X_train_logistic = standardize(X_train_logistic)\n",
        "X_test_logistic = standardize(X_test_logistic)\n",
        "\n",
        "# Initialize and train the Logistic Regression model\n",
        "model_logistic = LogisticRegression(learning_rate=0.025, num_iterations=1000)\n",
        "start_time_logistic = time.time()\n",
        "model_logistic.fit(X_train_logistic, y_train_logistic)\n",
        "end_time_logistic = time.time()\n",
        "\n",
        "# Make predictions for Logistic Regression\n",
        "y_pred_logistic = model_logistic.predict(X_test_logistic)\n",
        "\n",
        "# Calculate accuracy for Logistic Regression\n",
        "accuracy_logistic = accuracy_score(y_test_logistic, y_pred_logistic)\n",
        "\n",
        "# Define the LSC function and train the model\n",
        "def LSC():\n",
        "    # ... (Your LSC code here)\n",
        "    # Ensure you return the accuracy from the LSC function\n",
        "    return accuracy\n",
        "\n",
        "start_time_lsc = time.time()\n",
        "accuracy_lsc = LSC()\n",
        "end_time_lsc = time.time()\n",
        "\n",
        "# Create lists to store time and accuracy values\n",
        "methods = ['Logistic Regression', 'Least Squares Classification']\n",
        "times = [end_time_logistic - start_time_logistic, end_time_lsc - start_time_lsc]\n",
        "accuracies = [accuracy_logistic, accuracy_lsc]\n",
        "\n",
        "# Create a Pandas DataFrame to store the results\n",
        "results_df = pd.DataFrame({'Method': methods, 'Time (s)': times, 'Accuracy': accuracies})\n",
        "\n",
        "# Plot a bar graph to compare time and accuracy\n",
        "plt.figure(figsize=(10, 6))\n",
        "plt.bar(results_df['Method'], results_df['Time (s)'], color='skyblue', label='Time (s)')\n",
        "plt.ylabel('Time (s)')\n",
        "plt.twinx()\n",
        "plt.plot(results_df['Method'], results_df['Accuracy'], color='orange', marker='o', label='Accuracy')\n",
        "plt.ylabel('Accuracy')\n",
        "plt.title('Time and Accuracy Comparison')\n",
        "plt.legend(loc='upper right')\n",
        "plt.show()"
      ],
      "metadata": {
        "colab": {
          "base_uri": "https://localhost:8080/",
          "height": 545
        },
        "id": "ACzne6HmSTd7",
        "outputId": "cdb87be4-e322-4919-ef48-13c118071b7f"
      },
      "execution_count": null,
      "outputs": [
        {
          "output_type": "display_data",
          "data": {
            "text/plain": [
              "<Figure size 1000x600 with 2 Axes>"
            ],
            "image/png": "[encoded data removed]"
          },
          "metadata": {}
        }
      ]
    },
    {
      "cell_type": "code",
      "source": [
        "print(\"Accuracy for logistics regression\")\n",
        "print(accuracy_logistics*100)\n",
        "print(\"Accuracy for least squares\")\n",
        "print(accuracy_least_squares)\n",
        "print(\"Time for logistics regression \")\n",
        "print(logistics_reg_time)\n",
        "print(\"Time for least squares:\")\n",
        "print(least_squares_time)\n"
      ],
      "metadata": {
        "id": "8cd4jDNjKxlA",
        "colab": {
          "base_uri": "https://localhost:8080/"
        },
        "outputId": "520f1011-6948-4869-f65b-bcf98d01a3ee"
      },
      "execution_count": null,
      "outputs": [
        {
          "output_type": "stream",
          "name": "stdout",
          "text": [
            "Accuracy for logistics regression\n",
            "70.0\n",
            "Accuracy for least squares\n",
            "65.0\n",
            "Time for logistics regression \n",
            "0.08591675758361816\n",
            "Time for least squares:\n",
            "0.0035173892974853516\n"
          ]
        }
      ]
    },
    {
      "cell_type": "markdown",
      "metadata": {
        "id": "81SwQ_y4TaSc"
      },
      "source": [
        "# **_5. References_**\n",
        "\n",
        "1.  SGD from scratch github\n",
        "(https://github.com/arseniyturin/SGD-From-Scratch/blob/master/Gradient%20Descent.ipynb)\n",
        "\n",
        "2.  https://www.analyticsvidhya.com/blog/2022/01/diabetes-prediction-using-machine-learning/\n",
        "\n",
        "3. ChatGPT for debugging and understand codes\n",
        "\n"
      ]
    }
  ],
  "metadata": {
    "colab": {
      "provenance": [],
      "include_colab_link": true
    },
    "kernelspec": {
      "display_name": "Python 3",
      "name": "python3"
    },
    "language_info": {
      "name": "python"
    }
  },
  "nbformat": 4,
  "nbformat_minor": 0
}